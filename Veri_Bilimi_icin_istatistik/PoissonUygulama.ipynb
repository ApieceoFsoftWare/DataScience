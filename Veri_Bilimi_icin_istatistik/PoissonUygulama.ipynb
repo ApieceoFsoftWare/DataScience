{
 "cells": [
  {
   "cell_type": "markdown",
   "id": "ac7d9ba0-b29f-4b81-9e77-ceabb7ae1037",
   "metadata": {},
   "source": [
    "**İş Uygulaması: İlan Girişi Hata Olasılıklarının Hesaplanması**"
   ]
  },
  {
   "cell_type": "markdown",
   "id": "3390a53c-e78a-464d-ba44-b0c74dedcdd2",
   "metadata": {},
   "source": [
    "•Problem:\n",
    "    Hatalı ilan girişi olasılıkları hesaplanmak isteniyor.\n",
    "\n",
    "•Detaylar:                                                         \n",
    "    -Bir yıl süresince ölçümler yapılıyor                                                      \n",
    "    -Dağılım biliniyor (Poisson) ve Lambda 0.1 (ortalama hata sayısı)                                            \n",
    "    -Hiç hata olmaması, 3 hata olması ve 5 hata olması olasılıkları nedir?"
   ]
  },
  {
   "cell_type": "code",
   "execution_count": 3,
   "id": "d638250b-516f-4117-8611-ede49f25727f",
   "metadata": {},
   "outputs": [],
   "source": [
    "from scipy.stats import poisson"
   ]
  },
  {
   "cell_type": "code",
   "execution_count": 5,
   "id": "357fc394-2250-4fb3-9e48-20ac7c6b4617",
   "metadata": {},
   "outputs": [],
   "source": [
    "lambda1 = 0.1"
   ]
  },
  {
   "cell_type": "code",
   "execution_count": 7,
   "id": "9c217710-9b57-4894-8392-04f6055454f0",
   "metadata": {},
   "outputs": [
    {
     "name": "stdout",
     "output_type": "stream",
     "text": [
      "0.9048374180359595\n",
      "0.00015080623633932676\n",
      "7.54031181696634e-08\n"
     ]
    }
   ],
   "source": [
    "rv = poisson(mu= lambda1)\n",
    "print(rv.pmf(k=0))\n",
    "print(rv.pmf(k=3))\n",
    "print(rv.pmf(k=5))"
   ]
  },
  {
   "cell_type": "code",
   "execution_count": null,
   "id": "c8d2a1f5-2ba7-4605-bb5d-93dd38b5b88a",
   "metadata": {},
   "outputs": [],
   "source": []
  }
 ],
 "metadata": {
  "kernelspec": {
   "display_name": "Python 3",
   "language": "python",
   "name": "python3"
  },
  "language_info": {
   "codemirror_mode": {
    "name": "ipython",
    "version": 3
   },
   "file_extension": ".py",
   "mimetype": "text/x-python",
   "name": "python",
   "nbconvert_exporter": "python",
   "pygments_lexer": "ipython3",
   "version": "3.8.8"
  }
 },
 "nbformat": 4,
 "nbformat_minor": 5
}
