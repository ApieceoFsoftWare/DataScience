{
 "cells": [
  {
   "cell_type": "markdown",
   "id": "611224b2-2a9f-445c-85e1-e4c0728aa2ae",
   "metadata": {},
   "source": [
    "**İş Uygulaması: Ürün Satış Olasılıklarının Hesaplanması**"
   ]
  },
  {
   "cell_type": "markdown",
   "id": "a5ff5327-e490-442c-9475-ea735cdc8c04",
   "metadata": {},
   "source": [
    "Problem:\n",
    "    Bir yatırım/toplantı öncesinde gelecek ay ile ilgili satışların belirli değerlerde gerçekleşmesi olasılıkları belirlenmek \n",
    "    isteniyor."
   ]
  },
  {
   "cell_type": "markdown",
   "id": "439bcda6-ccec-4ec2-a27d-801cbcb15378",
   "metadata": {},
   "source": [
    "Detaylar:                                                                              \n",
    "    -Dağılımın normal olduğu biliniyor.                                                                                 \n",
    "    -Aylık ortalama satış sayısı 80K, standart sapması 5K                                                                \n",
    "    -90K'dan fazla satış yapma olasılığı nedir?                                                                "
   ]
  },
  {
   "cell_type": "code",
   "execution_count": 2,
   "id": "b5abe622-6bc2-4f87-bf1f-d501f6e8c32f",
   "metadata": {},
   "outputs": [],
   "source": [
    "from scipy.stats import norm"
   ]
  },
  {
   "cell_type": "code",
   "execution_count": 3,
   "id": "fe9d37a2-e45a-4e9f-b736-67872c99af4c",
   "metadata": {},
   "outputs": [
    {
     "data": {
      "text/plain": [
       "0.02275013194817921"
      ]
     },
     "execution_count": 3,
     "metadata": {},
     "output_type": "execute_result"
    }
   ],
   "source": [
    "#90'dan fazla olma olasılığı\n",
    "1-norm.cdf(90,80,5)"
   ]
  },
  {
   "cell_type": "code",
   "execution_count": 4,
   "id": "c4d3f320-4c49-45b7-8b33-f490bb5bf4c8",
   "metadata": {},
   "outputs": [
    {
     "data": {
      "text/plain": [
       "0.9772498680518208"
      ]
     },
     "execution_count": 4,
     "metadata": {},
     "output_type": "execute_result"
    }
   ],
   "source": [
    "#70'den fazla olma olasılığı\n",
    "1-norm.cdf(70,80,5)"
   ]
  },
  {
   "cell_type": "code",
   "execution_count": 6,
   "id": "6bbef672-5c99-4f1d-8686-f09d4562e0af",
   "metadata": {},
   "outputs": [
    {
     "data": {
      "text/plain": [
       "0.08075665923377107"
      ]
     },
     "execution_count": 6,
     "metadata": {},
     "output_type": "execute_result"
    }
   ],
   "source": [
    "#73'den az olma olasılığı\n",
    "norm.cdf(73,80,5)"
   ]
  },
  {
   "cell_type": "code",
   "execution_count": 7,
   "id": "5fe9aebe-e673-40fb-8b3f-3fc29bb2e023",
   "metadata": {},
   "outputs": [
    {
     "data": {
      "text/plain": [
       "0.13590512198327787"
      ]
     },
     "execution_count": 7,
     "metadata": {},
     "output_type": "execute_result"
    }
   ],
   "source": [
    "#85 ile 90 arasında olma olasılığı\n",
    "norm.cdf(90,80,5)-norm.cdf(85,80,5)"
   ]
  },
  {
   "cell_type": "code",
   "execution_count": null,
   "id": "b1d9afde-79f1-42a9-ad62-2dce7be00de5",
   "metadata": {},
   "outputs": [],
   "source": []
  }
 ],
 "metadata": {
  "kernelspec": {
   "display_name": "Python 3",
   "language": "python",
   "name": "python3"
  },
  "language_info": {
   "codemirror_mode": {
    "name": "ipython",
    "version": 3
   },
   "file_extension": ".py",
   "mimetype": "text/x-python",
   "name": "python",
   "nbconvert_exporter": "python",
   "pygments_lexer": "ipython3",
   "version": "3.8.8"
  }
 },
 "nbformat": 4,
 "nbformat_minor": 5
}
