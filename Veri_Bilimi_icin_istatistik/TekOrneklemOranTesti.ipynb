{
 "cells": [
  {
   "cell_type": "markdown",
   "id": "25d61013-e72c-4700-a185-d3f29811bd2b",
   "metadata": {},
   "source": [
    "**Tek Örneklem Oran Testi**"
   ]
  },
  {
   "cell_type": "markdown",
   "id": "7a81d4c8-7864-4ded-9b81-d130dc8d6a97",
   "metadata": {},
   "source": [
    "**İş Uygulaması: Dönüşüm Oranı Testi**"
   ]
  },
  {
   "cell_type": "markdown",
   "id": "c6920d78-357c-4b49-8974-b794bff91a9f",
   "metadata": {},
   "source": [
    "Problem:                                                                                             \n",
    "Bir yazılım ile bir mecrada reklam verilmiş ve bu reklama ilişkin yazılım tarafından 0.125 dönüşüm oranı elde edilmiştir.\n",
    "Fakat bu durum kontrol edilmek isteniyor. Çünkü yüksek bir oran ve gelirler incelendiğinde örtüşmüyor. "
   ]
  },
  {
   "cell_type": "markdown",
   "id": "1dc0cc90-af08-40d4-8591-af684edcf7e7",
   "metadata": {},
   "source": [
    "Detaylar:                                                                                                                  \n",
    "500 kişi dış mecrada reklama tıklamış, 40 tanesi sitemize gelip alışveriş yapmış.                                         \n",
    "Örnek üzerinden elde edilen dönüşüm oranı: 40/100= 0,08"
   ]
  },
  {
   "cell_type": "markdown",
   "id": "928c42ab-c358-47a5-9e9b-37cbac189b1d",
   "metadata": {},
   "source": [
    "H0: p = 0,125                                                                                                            \n",
    "H1: p!= 0,125"
   ]
  },
  {
   "cell_type": "code",
   "execution_count": 2,
   "id": "82b1ff82-7db6-45ac-b542-c78c2e5d2e28",
   "metadata": {},
   "outputs": [],
   "source": [
    "from statsmodels.stats.proportion import proportions_ztest"
   ]
  },
  {
   "cell_type": "code",
   "execution_count": 5,
   "id": "aa241da4-14ce-45d2-a27b-00bbde4f1e56",
   "metadata": {},
   "outputs": [],
   "source": [
    "count=40\n",
    "nobs=500\n",
    "value=0.125"
   ]
  },
  {
   "cell_type": "code",
   "execution_count": 7,
   "id": "55ca4171-e380-4352-8e91-23c89a39bbea",
   "metadata": {},
   "outputs": [
    {
     "data": {
      "text/plain": [
       "(-3.7090151628513017, 0.0002080669689845979)"
      ]
     },
     "execution_count": 7,
     "metadata": {},
     "output_type": "execute_result"
    }
   ],
   "source": [
    "proportions_ztest(count, nobs, value) #p_value H hipotezi 0,05 den daha küçük olduğu için reddediyoruz."
   ]
  },
  {
   "cell_type": "code",
   "execution_count": null,
   "id": "0783d3d6-2858-4ae2-acba-b2560471bbe1",
   "metadata": {},
   "outputs": [],
   "source": [
    "# Bu şekilde H0 testinin 0,125 lik oranının yanlış olduğunu ispatlıyoruz."
   ]
  }
 ],
 "metadata": {
  "kernelspec": {
   "display_name": "Python 3",
   "language": "python",
   "name": "python3"
  },
  "language_info": {
   "codemirror_mode": {
    "name": "ipython",
    "version": 3
   },
   "file_extension": ".py",
   "mimetype": "text/x-python",
   "name": "python",
   "nbconvert_exporter": "python",
   "pygments_lexer": "ipython3",
   "version": "3.8.8"
  }
 },
 "nbformat": 4,
 "nbformat_minor": 5
}
