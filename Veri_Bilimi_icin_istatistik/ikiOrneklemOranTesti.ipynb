{
 "cells": [
  {
   "cell_type": "markdown",
   "id": "6c5c28e7-cf7c-4b39-8ccb-e34065898382",
   "metadata": {},
   "source": [
    "**İki Örneklem Oran Testi**"
   ]
  },
  {
   "cell_type": "markdown",
   "id": "74eda7aa-940d-4346-a60d-f4fb4dfc36ba",
   "metadata": {},
   "source": [
    "**İş Uygulaması: Kullanıcı Arayüzü(AB Testi)**"
   ]
  },
  {
   "cell_type": "code",
   "execution_count": 10,
   "id": "d13aca03-41e4-477b-b909-6cd45ac97dc5",
   "metadata": {},
   "outputs": [],
   "source": [
    "from statsmodels.stats.proportion import proportions_ztest"
   ]
  },
  {
   "cell_type": "code",
   "execution_count": 11,
   "id": "ed037ee7-feb2-4f74-ad32-98f2d381399e",
   "metadata": {},
   "outputs": [],
   "source": [
    "import numpy as np\n",
    "basari_sayisi = np.array([300,250])\n",
    "gozlem_sayilari=np.array([1000,1100])"
   ]
  },
  {
   "cell_type": "code",
   "execution_count": 12,
   "id": "0f81774a-449b-44ac-9bf4-be00d8322275",
   "metadata": {},
   "outputs": [
    {
     "data": {
      "text/plain": [
       "(3.7857863233209255, 0.0001532232957772221)"
      ]
     },
     "execution_count": 12,
     "metadata": {},
     "output_type": "execute_result"
    }
   ],
   "source": [
    "proportions_ztest(count=basari_sayisi, nobs=gozlem_sayilari)"
   ]
  },
  {
   "cell_type": "code",
   "execution_count": 13,
   "id": "dd2eeba8-97ef-4382-aa69-114353bb71f1",
   "metadata": {},
   "outputs": [],
   "source": [
    "#H0 hipotezi reddedilir. H0: p1 oranı = p2 oranı"
   ]
  },
  {
   "cell_type": "markdown",
   "id": "42eaa45b-0e31-4885-9fed-22a4b1d3e5e2",
   "metadata": {},
   "source": [
    "**Varyans Analizi**"
   ]
  },
  {
   "cell_type": "markdown",
   "id": "91ef8c1b-3301-4f03-b78e-2991fc134b62",
   "metadata": {},
   "source": [
    "İki ya da daha fazla grup ortalaması arasında istatistiksel olarak farklılık olup olmadığı öğrenilmek istendiğinde kullanılır."
   ]
  },
  {
   "cell_type": "markdown",
   "id": "a4d47b53-ed80-4170-93b4-dd10f0723f5e",
   "metadata": {},
   "source": [
    "HO : m1 = m2 = m3\n",
    "    \n",
    "H1 : eşit değildirler. (en az birisi farklıdır)"
   ]
  },
  {
   "cell_type": "markdown",
   "id": "da85b5a7-bcad-4a0f-98ce-44ee87bfa6f0",
   "metadata": {},
   "source": [
    "**Varsayımlar**:                                                                                                                \n",
    "    Gözlemlerin birbirinden bağımsız olması(grupların)                                                                   \n",
    "    Normal Dağılım                                                                                                  \n",
    "    Varyans Homojenliği                                                                                             "
   ]
  },
  {
   "cell_type": "markdown",
   "id": "1dd3fab6-3423-4407-8a75-9e23b8335167",
   "metadata": {},
   "source": [
    "**İş Uygulaması: Anasayfa İçerik Stratejisi Belirlemek**"
   ]
  },
  {
   "cell_type": "markdown",
   "id": "d018dcc2-8443-4507-9840-642e01dbce29",
   "metadata": {},
   "source": [
    "**Problem**: Anasayfa'da geçirilen süre arttırılmak isteniyor.\n",
    "\n",
    "**Detaylar**:                                                                                                            \n",
    "    -Bir web sitesi için başarı kriteri: ortalama ziyaret süresi, hemen çıkış oranı vb.                               \n",
    "    -Uzun geçiren kullanıcıların reklamlara daha fazla tıkladığı ve markaya olan bağlılıklarının arttığı biliniyor.      \n",
    "    -Buna yönelik olarak benzer haberler, farklı resimler ya da farklı formatlarda hazırlanarak oluşturulan test gruplarına \n",
    "     gösteriliyor.                                                                                   \n",
    "    -A: Doğal şekilde, B: Yönlendirici, C: İlgi Çekici\n",
    "    \n",
    "    "
   ]
  },
  {
   "cell_type": "markdown",
   "id": "e62d31a4-6ef2-4120-91da-b84c0e8cca9b",
   "metadata": {},
   "source": [
    "**Varyans Analizi**"
   ]
  },
  {
   "cell_type": "markdown",
   "id": "ca1904a4-54c6-496a-808d-33d998ef0962",
   "metadata": {},
   "source": [
    "H0: M1 = M2 = M3 (grup ortalamalari arasinda ist anl. farklilik yoktur) \n",
    "\n",
    "H1: Fark vardir."
   ]
  },
  {
   "cell_type": "code",
   "execution_count": 14,
   "id": "b2933178-8745-4e1a-84e7-4dcea9d1bb9e",
   "metadata": {},
   "outputs": [
    {
     "data": {
      "text/html": [
       "<div>\n",
       "<style scoped>\n",
       "    .dataframe tbody tr th:only-of-type {\n",
       "        vertical-align: middle;\n",
       "    }\n",
       "\n",
       "    .dataframe tbody tr th {\n",
       "        vertical-align: top;\n",
       "    }\n",
       "\n",
       "    .dataframe thead th {\n",
       "        text-align: right;\n",
       "    }\n",
       "</style>\n",
       "<table border=\"1\" class=\"dataframe\">\n",
       "  <thead>\n",
       "    <tr style=\"text-align: right;\">\n",
       "      <th></th>\n",
       "      <th>Grup_A</th>\n",
       "      <th>Grup_B</th>\n",
       "      <th>Grup_C</th>\n",
       "    </tr>\n",
       "  </thead>\n",
       "  <tbody>\n",
       "    <tr>\n",
       "      <th>0</th>\n",
       "      <td>28</td>\n",
       "      <td>31</td>\n",
       "      <td>40</td>\n",
       "    </tr>\n",
       "    <tr>\n",
       "      <th>1</th>\n",
       "      <td>33</td>\n",
       "      <td>32</td>\n",
       "      <td>33</td>\n",
       "    </tr>\n",
       "    <tr>\n",
       "      <th>2</th>\n",
       "      <td>30</td>\n",
       "      <td>30</td>\n",
       "      <td>38</td>\n",
       "    </tr>\n",
       "    <tr>\n",
       "      <th>3</th>\n",
       "      <td>29</td>\n",
       "      <td>30</td>\n",
       "      <td>41</td>\n",
       "    </tr>\n",
       "    <tr>\n",
       "      <th>4</th>\n",
       "      <td>28</td>\n",
       "      <td>33</td>\n",
       "      <td>42</td>\n",
       "    </tr>\n",
       "  </tbody>\n",
       "</table>\n",
       "</div>"
      ],
      "text/plain": [
       "   Grup_A  Grup_B  Grup_C\n",
       "0      28      31      40\n",
       "1      33      32      33\n",
       "2      30      30      38\n",
       "3      29      30      41\n",
       "4      28      33      42"
      ]
     },
     "execution_count": 14,
     "metadata": {},
     "output_type": "execute_result"
    }
   ],
   "source": [
    "import pandas as pd\n",
    "A = pd.DataFrame([28,33,30,29,28,29,27,31,30,32,28,33,25,29,27,31,31,30,31,34,30,32,31,34,28,32,31,28,33,29])\n",
    "\n",
    "B = pd.DataFrame([31,32,30,30,33,32,34,27,36,30,31,30,38,29,30,34,34,31,35,35,33,30,28,29,26,37,31,28,34,33])\n",
    "\n",
    "C = pd.DataFrame([40,33,38,41,42,43,38,35,39,39,36,34,35,40,38,36,39,36,33,35,38,35,40,40,39,38,38,43,40,42])\n",
    "\n",
    "dfs=[A,B,C]\n",
    "\n",
    "ABC = pd.concat(dfs, axis=1)\n",
    "ABC.columns=[\"Grup_A\",\"Grup_B\",\"Grup_C\"]\n",
    "ABC.head()"
   ]
  },
  {
   "cell_type": "markdown",
   "id": "1c8b2037-a5a3-444f-9e22-3dad86bb4138",
   "metadata": {},
   "source": [
    "**Varsayım Kontrolü**"
   ]
  },
  {
   "cell_type": "code",
   "execution_count": 23,
   "id": "123f8473-d9d6-4353-811e-6149fb5dedf3",
   "metadata": {},
   "outputs": [],
   "source": [
    "import scipy.stats as stats\n",
    "from scipy.stats import shapiro"
   ]
  },
  {
   "cell_type": "code",
   "execution_count": 24,
   "id": "5a3ed85c-dc27-45a9-bc8b-b87093957335",
   "metadata": {},
   "outputs": [
    {
     "data": {
      "text/plain": [
       "ShapiroResult(statistic=0.969743549823761, pvalue=0.5321813225746155)"
      ]
     },
     "execution_count": 24,
     "metadata": {},
     "output_type": "execute_result"
    }
   ],
   "source": [
    "shapiro(ABC[\"Grup_A\"])"
   ]
  },
  {
   "cell_type": "code",
   "execution_count": 25,
   "id": "f12dcd62-efe1-42ad-91c8-cf12508afa3c",
   "metadata": {},
   "outputs": [
    {
     "data": {
      "text/plain": [
       "ShapiroResult(statistic=0.9789854884147644, pvalue=0.7979801297187805)"
      ]
     },
     "execution_count": 25,
     "metadata": {},
     "output_type": "execute_result"
    }
   ],
   "source": [
    "shapiro(ABC[\"Grup_B\"])"
   ]
  },
  {
   "cell_type": "code",
   "execution_count": 26,
   "id": "5c83b448-1e8f-480a-a29a-e63cf10e6c0a",
   "metadata": {},
   "outputs": [
    {
     "data": {
      "text/plain": [
       "ShapiroResult(statistic=0.9579201340675354, pvalue=0.273820161819458)"
      ]
     },
     "execution_count": 26,
     "metadata": {},
     "output_type": "execute_result"
    }
   ],
   "source": [
    "shapiro(ABC[\"Grup_C\"])"
   ]
  },
  {
   "cell_type": "code",
   "execution_count": 27,
   "id": "0a9e826e-dcb5-48d6-9e09-2dd55f1351bf",
   "metadata": {},
   "outputs": [
    {
     "data": {
      "text/plain": [
       "LeveneResult(statistic=1.0267403645055275, pvalue=0.36247110117417064)"
      ]
     },
     "execution_count": 27,
     "metadata": {},
     "output_type": "execute_result"
    }
   ],
   "source": [
    "stats.levene(ABC[\"Grup_A\"],ABC[\"Grup_B\"],ABC[\"Grup_C\"])"
   ]
  },
  {
   "cell_type": "markdown",
   "id": "7b4245d2-7819-487a-9d9d-865e53de395a",
   "metadata": {},
   "source": [
    "**Hipotez Testi**"
   ]
  },
  {
   "cell_type": "code",
   "execution_count": 28,
   "id": "bcadcb2c-6769-4c74-923a-7a802114fe9c",
   "metadata": {},
   "outputs": [],
   "source": [
    "from scipy.stats import f_oneway"
   ]
  },
  {
   "cell_type": "code",
   "execution_count": 29,
   "id": "bbc52b8f-5989-4a6c-aed7-6bf606e4fbc5",
   "metadata": {},
   "outputs": [
    {
     "data": {
      "text/plain": [
       "F_onewayResult(statistic=74.69278140730431, pvalue=1.3079050746811477e-19)"
      ]
     },
     "execution_count": 29,
     "metadata": {},
     "output_type": "execute_result"
    }
   ],
   "source": [
    "f_oneway(ABC[\"Grup_A\"],ABC[\"Grup_B\"],ABC[\"Grup_C\"])"
   ]
  },
  {
   "cell_type": "code",
   "execution_count": 31,
   "id": "5499ec34-c7b7-406d-ad17-07034109c06a",
   "metadata": {},
   "outputs": [
    {
     "name": "stdout",
     "output_type": "stream",
     "text": [
      "0.00000\n"
     ]
    }
   ],
   "source": [
    "print('{:.5f}'.format(f_oneway(ABC[\"Grup_A\"],ABC[\"Grup_B\"],ABC[\"Grup_C\"])[1])) #Bu şekilde de elde edilebiliyor."
   ]
  },
  {
   "cell_type": "code",
   "execution_count": 32,
   "id": "ccf666c8-6820-49a6-92d8-442016007388",
   "metadata": {},
   "outputs": [],
   "source": [
    "#H0 hipotezi reddedilir. Anlamlı bir farklılık vardır."
   ]
  },
  {
   "cell_type": "code",
   "execution_count": 33,
   "id": "11d29774-4bba-4bac-ac54-a3813c1659c9",
   "metadata": {},
   "outputs": [
    {
     "data": {
      "text/html": [
       "<div>\n",
       "<style scoped>\n",
       "    .dataframe tbody tr th:only-of-type {\n",
       "        vertical-align: middle;\n",
       "    }\n",
       "\n",
       "    .dataframe tbody tr th {\n",
       "        vertical-align: top;\n",
       "    }\n",
       "\n",
       "    .dataframe thead th {\n",
       "        text-align: right;\n",
       "    }\n",
       "</style>\n",
       "<table border=\"1\" class=\"dataframe\">\n",
       "  <thead>\n",
       "    <tr style=\"text-align: right;\">\n",
       "      <th></th>\n",
       "      <th>count</th>\n",
       "      <th>mean</th>\n",
       "      <th>std</th>\n",
       "      <th>min</th>\n",
       "      <th>25%</th>\n",
       "      <th>50%</th>\n",
       "      <th>75%</th>\n",
       "      <th>max</th>\n",
       "    </tr>\n",
       "  </thead>\n",
       "  <tbody>\n",
       "    <tr>\n",
       "      <th>Grup_A</th>\n",
       "      <td>30.0</td>\n",
       "      <td>30.133333</td>\n",
       "      <td>2.224214</td>\n",
       "      <td>25.0</td>\n",
       "      <td>28.25</td>\n",
       "      <td>30.0</td>\n",
       "      <td>31.75</td>\n",
       "      <td>34.0</td>\n",
       "    </tr>\n",
       "    <tr>\n",
       "      <th>Grup_B</th>\n",
       "      <td>30.0</td>\n",
       "      <td>31.700000</td>\n",
       "      <td>2.937862</td>\n",
       "      <td>26.0</td>\n",
       "      <td>30.00</td>\n",
       "      <td>31.0</td>\n",
       "      <td>34.00</td>\n",
       "      <td>38.0</td>\n",
       "    </tr>\n",
       "    <tr>\n",
       "      <th>Grup_C</th>\n",
       "      <td>30.0</td>\n",
       "      <td>38.100000</td>\n",
       "      <td>2.808239</td>\n",
       "      <td>33.0</td>\n",
       "      <td>36.00</td>\n",
       "      <td>38.0</td>\n",
       "      <td>40.00</td>\n",
       "      <td>43.0</td>\n",
       "    </tr>\n",
       "  </tbody>\n",
       "</table>\n",
       "</div>"
      ],
      "text/plain": [
       "        count       mean       std   min    25%   50%    75%   max\n",
       "Grup_A   30.0  30.133333  2.224214  25.0  28.25  30.0  31.75  34.0\n",
       "Grup_B   30.0  31.700000  2.937862  26.0  30.00  31.0  34.00  38.0\n",
       "Grup_C   30.0  38.100000  2.808239  33.0  36.00  38.0  40.00  43.0"
      ]
     },
     "execution_count": 33,
     "metadata": {},
     "output_type": "execute_result"
    }
   ],
   "source": [
    "ABC.describe().T"
   ]
  },
  {
   "cell_type": "markdown",
   "id": "b20047ed-ae1f-44d4-b7fc-251beb42ec42",
   "metadata": {},
   "source": [
    "**Non-Parametrik Hipotez Testi**"
   ]
  },
  {
   "cell_type": "code",
   "execution_count": 34,
   "id": "6c44c812-c211-42d4-a994-676e26710ad9",
   "metadata": {},
   "outputs": [],
   "source": [
    "from scipy.stats import kruskal"
   ]
  },
  {
   "cell_type": "code",
   "execution_count": 35,
   "id": "371278f5-3f6d-4ba8-8ad9-bef7b0476383",
   "metadata": {},
   "outputs": [
    {
     "data": {
      "text/plain": [
       "KruskalResult(statistic=54.19819735523783, pvalue=1.7022015426175926e-12)"
      ]
     },
     "execution_count": 35,
     "metadata": {},
     "output_type": "execute_result"
    }
   ],
   "source": [
    "kruskal(ABC[\"Grup_A\"],ABC[\"Grup_B\"],ABC[\"Grup_C\"])"
   ]
  },
  {
   "cell_type": "code",
   "execution_count": 36,
   "id": "7c0d0fe8-7b98-481a-ad5d-d00e3d3df1aa",
   "metadata": {},
   "outputs": [],
   "source": [
    "#H0 hipotezi reddedilir. PValue değeri 0,05' den çok küçük."
   ]
  },
  {
   "cell_type": "code",
   "execution_count": null,
   "id": "54d3a1c3-cf11-4a4b-8d2f-dc428d1469b6",
   "metadata": {},
   "outputs": [],
   "source": []
  }
 ],
 "metadata": {
  "kernelspec": {
   "display_name": "Python 3",
   "language": "python",
   "name": "python3"
  },
  "language_info": {
   "codemirror_mode": {
    "name": "ipython",
    "version": 3
   },
   "file_extension": ".py",
   "mimetype": "text/x-python",
   "name": "python",
   "nbconvert_exporter": "python",
   "pygments_lexer": "ipython3",
   "version": "3.8.8"
  }
 },
 "nbformat": 4,
 "nbformat_minor": 5
}
