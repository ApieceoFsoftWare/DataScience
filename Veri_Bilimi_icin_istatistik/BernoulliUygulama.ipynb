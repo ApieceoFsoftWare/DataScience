{
 "cells": [
  {
   "cell_type": "markdown",
   "id": "85882881-e66a-409e-9d7d-3dfa1f8fdd65",
   "metadata": {},
   "source": [
    "**Bernoulli Dağılımı Uygulama**"
   ]
  },
  {
   "cell_type": "markdown",
   "id": "63bfbdb0-225c-4aad-bd80-a37b4c37a01e",
   "metadata": {},
   "source": [
    "${\\displaystyle f(k;p)=p^{k}(1-p)^{1-k}\\quad {\\text{for }}k\\in \\{0,1\\}}$\n",
    "\n",
    "${\\displaystyle \\operatorname {E} \\left(X\\right)=p}$\n",
    "\n",
    "$\\operatorname {Var} [X]=pq=p(1-p)$"
   ]
  },
  {
   "cell_type": "code",
   "execution_count": 2,
   "id": "e1f77083-7178-4945-b89c-320db5f8e6f5",
   "metadata": {},
   "outputs": [],
   "source": [
    "from scipy.stats import bernoulli"
   ]
  },
  {
   "cell_type": "code",
   "execution_count": 4,
   "id": "6f34fa32-33f1-4f43-9620-ffff0391935e",
   "metadata": {},
   "outputs": [
    {
     "data": {
      "text/plain": [
       "0.4"
      ]
     },
     "execution_count": 4,
     "metadata": {},
     "output_type": "execute_result"
    }
   ],
   "source": [
    "p = 0.6\n",
    "rv = bernoulli(p)\n",
    "rv.pmf(k = 0)\n",
    "\n",
    "# p = 0.6\n",
    "# rv = bernoulli(p)\n",
    "# rv.pmf(k = 1)"
   ]
  },
  {
   "cell_type": "code",
   "execution_count": null,
   "id": "8f519b83-8fec-429b-b924-6b2adf52dce1",
   "metadata": {},
   "outputs": [],
   "source": []
  }
 ],
 "metadata": {
  "kernelspec": {
   "display_name": "Python 3",
   "language": "python",
   "name": "python3"
  },
  "language_info": {
   "codemirror_mode": {
    "name": "ipython",
    "version": 3
   },
   "file_extension": ".py",
   "mimetype": "text/x-python",
   "name": "python",
   "nbconvert_exporter": "python",
   "pygments_lexer": "ipython3",
   "version": "3.8.8"
  }
 },
 "nbformat": 4,
 "nbformat_minor": 5
}
