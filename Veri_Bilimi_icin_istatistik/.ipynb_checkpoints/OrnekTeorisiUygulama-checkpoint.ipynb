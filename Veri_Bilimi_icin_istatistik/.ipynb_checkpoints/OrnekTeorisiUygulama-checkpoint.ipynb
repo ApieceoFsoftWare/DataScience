{
 "cells": [
  {
   "cell_type": "markdown",
   "id": "9de03d79-6916-45a9-87f2-8079a351febb",
   "metadata": {},
   "source": [
    "**Veri Bilimi İçin İstatistik**"
   ]
  },
  {
   "cell_type": "markdown",
   "id": "cbb7bb65-e3f4-4922-a284-4fdacf034f05",
   "metadata": {},
   "source": [
    "*Örnek Teorisi*"
   ]
  },
  {
   "cell_type": "code",
   "execution_count": 2,
   "id": "ec24bdad-5b51-414e-8591-e65f2d067630",
   "metadata": {},
   "outputs": [],
   "source": [
    "import numpy as np"
   ]
  },
  {
   "cell_type": "code",
   "execution_count": 3,
   "id": "96955046-64f6-4180-b9a5-3ed328eefe78",
   "metadata": {},
   "outputs": [],
   "source": [
    "populasyon = np.random.randint(0, 80, 10000)"
   ]
  },
  {
   "cell_type": "code",
   "execution_count": 4,
   "id": "13faefd2-316f-4b87-b738-81613b3af683",
   "metadata": {},
   "outputs": [
    {
     "data": {
      "text/plain": [
       "array([17, 67, 31, 27, 43, 52, 57, 71, 16, 32])"
      ]
     },
     "execution_count": 4,
     "metadata": {},
     "output_type": "execute_result"
    }
   ],
   "source": [
    "populasyon[0:10]"
   ]
  },
  {
   "cell_type": "markdown",
   "id": "413b0f3e-f440-48ef-a327-11164b5d3843",
   "metadata": {},
   "source": [
    "*Örneklem Çekimi*"
   ]
  },
  {
   "cell_type": "code",
   "execution_count": 5,
   "id": "72869809-b887-40c1-b42a-97fa1a6b5719",
   "metadata": {},
   "outputs": [
    {
     "data": {
      "text/plain": [
       "array([ 8,  5, 43,  8, 45, 33, 45, 61, 57, 25])"
      ]
     },
     "execution_count": 5,
     "metadata": {},
     "output_type": "execute_result"
    }
   ],
   "source": [
    "np.random.seed(115)\n",
    "orneklem = np.random.choice(a=populasyon, size=100)\n",
    "orneklem[0:10]"
   ]
  },
  {
   "cell_type": "code",
   "execution_count": 6,
   "id": "1bff98c3-867d-4629-a0cc-34385dc66154",
   "metadata": {},
   "outputs": [
    {
     "data": {
      "text/plain": [
       "37.27"
      ]
     },
     "execution_count": 6,
     "metadata": {},
     "output_type": "execute_result"
    }
   ],
   "source": [
    "orneklem.mean()"
   ]
  },
  {
   "cell_type": "code",
   "execution_count": 7,
   "id": "b0773d72-3219-4b9b-b8a6-5e644036ed4f",
   "metadata": {},
   "outputs": [
    {
     "data": {
      "text/plain": [
       "39.3249"
      ]
     },
     "execution_count": 7,
     "metadata": {},
     "output_type": "execute_result"
    }
   ],
   "source": [
    "populasyon.mean()"
   ]
  },
  {
   "cell_type": "markdown",
   "id": "7ffce457-dcbc-44cd-b226-d96653c2fe40",
   "metadata": {},
   "source": [
    "**Örnek Dağılımı**"
   ]
  },
  {
   "cell_type": "code",
   "execution_count": 11,
   "id": "5cee0253-ec77-43e0-bfb0-ef15a2f9fd22",
   "metadata": {},
   "outputs": [],
   "source": [
    "np.random.seed(10)\n",
    "orneklem1 = np.random.choice(a=populasyon, size=100)\n",
    "orneklem2 = np.random.choice(a=populasyon, size=100)\n",
    "orneklem3 = np.random.choice(a=populasyon, size=100)\n",
    "orneklem4 = np.random.choice(a=populasyon, size=100)\n",
    "orneklem5 = np.random.choice(a=populasyon, size=100)\n",
    "orneklem6 = np.random.choice(a=populasyon, size=100)\n",
    "orneklem7 = np.random.choice(a=populasyon, size=100)\n",
    "orneklem8 = np.random.choice(a=populasyon, size=100)\n",
    "orneklem9 = np.random.choice(a=populasyon, size=100)\n",
    "orneklem10 = np.random.choice(a=populasyon, size=100)"
   ]
  },
  {
   "cell_type": "code",
   "execution_count": 15,
   "id": "1d3bfe9b-5808-468c-87cf-fe4946b2e94d",
   "metadata": {},
   "outputs": [
    {
     "data": {
      "text/plain": [
       "40.088"
      ]
     },
     "execution_count": 15,
     "metadata": {},
     "output_type": "execute_result"
    }
   ],
   "source": [
    "(orneklem1.mean() + orneklem2.mean() +orneklem3.mean()+orneklem4.mean()+orneklem5.mean()+orneklem6.mean()+orneklem7.mean()+orneklem8.mean()+orneklem9.mean()+orneklem10.mean())/10"
   ]
  },
  {
   "cell_type": "code",
   "execution_count": 16,
   "id": "94504fb1-eddf-4a84-ba49-cdb3f3ab3953",
   "metadata": {},
   "outputs": [
    {
     "data": {
      "text/plain": [
       "38.59"
      ]
     },
     "execution_count": 16,
     "metadata": {},
     "output_type": "execute_result"
    }
   ],
   "source": [
    "orneklem1.mean()"
   ]
  },
  {
   "cell_type": "code",
   "execution_count": 17,
   "id": "90e82ed9-2eed-41a9-970d-694e7a9139be",
   "metadata": {},
   "outputs": [
    {
     "data": {
      "text/plain": [
       "40.79"
      ]
     },
     "execution_count": 17,
     "metadata": {},
     "output_type": "execute_result"
    }
   ],
   "source": [
    "orneklem2.mean()"
   ]
  },
  {
   "cell_type": "code",
   "execution_count": null,
   "id": "1c897326-fcea-4fc6-ba20-272219223c97",
   "metadata": {},
   "outputs": [],
   "source": []
  }
 ],
 "metadata": {
  "kernelspec": {
   "display_name": "Python 3",
   "language": "python",
   "name": "python3"
  },
  "language_info": {
   "codemirror_mode": {
    "name": "ipython",
    "version": 3
   },
   "file_extension": ".py",
   "mimetype": "text/x-python",
   "name": "python",
   "nbconvert_exporter": "python",
   "pygments_lexer": "ipython3",
   "version": "3.8.8"
  }
 },
 "nbformat": 4,
 "nbformat_minor": 5
}
