{
 "cells": [
  {
   "cell_type": "markdown",
   "id": "ae5d085f-206a-4588-ab9f-81b3d4afd58e",
   "metadata": {},
   "source": [
    "**Tek Örneklem T Testi**"
   ]
  },
  {
   "cell_type": "code",
   "execution_count": 23,
   "id": "66e3ebfd-0ef3-4cde-981a-8152ec65f3f6",
   "metadata": {},
   "outputs": [
    {
     "data": {
      "text/plain": [
       "array([ 17, 160,  45,   1,   6,   1,  64,  68,  46,  65])"
      ]
     },
     "execution_count": 23,
     "metadata": {},
     "output_type": "execute_result"
    }
   ],
   "source": [
    "import numpy as np\n",
    "import pandas as pd\n",
    "\n",
    "olcumler=np.array([17,160,45,1,6,1,64,68,46,65,433,654,64,6,16,13,1,4,64,84,16,1,894,65,1,8,4987,46,13,168,41,651,794,28,94,6])\n",
    "olcumler[0:10]"
   ]
  },
  {
   "cell_type": "code",
   "execution_count": 24,
   "id": "cf03a75a-003e-46fc-9526-1148916bb22f",
   "metadata": {},
   "outputs": [],
   "source": [
    "import scipy.stats as stats"
   ]
  },
  {
   "cell_type": "code",
   "execution_count": 25,
   "id": "231c02fe-8f4b-4873-a6d7-abb4c035a8f2",
   "metadata": {},
   "outputs": [
    {
     "data": {
      "text/plain": [
       "DescribeResult(nobs=36, minmax=(1, 4987), mean=267.3611111111111, variance=710589.3801587302, skewness=5.091731362392377, kurtosis=25.899340749311087)"
      ]
     },
     "execution_count": 25,
     "metadata": {},
     "output_type": "execute_result"
    }
   ],
   "source": [
    "stats.describe(olcumler)"
   ]
  },
  {
   "cell_type": "code",
   "execution_count": 26,
   "id": "67c10c26-20ef-4b22-815f-1e1d542afefd",
   "metadata": {},
   "outputs": [],
   "source": [
    "#Varsayımlar\n",
    "#Normallik varsayımları"
   ]
  },
  {
   "cell_type": "code",
   "execution_count": 27,
   "id": "c23cda42-89e3-4b69-a182-5a6d1e540490",
   "metadata": {},
   "outputs": [
    {
     "data": {
      "image/png": "[encoded data removed]",
      "text/plain": [
       "<Figure size 432x288 with 1 Axes>"
      ]
     },
     "metadata": {
      "needs_background": "light"
     },
     "output_type": "display_data"
    }
   ],
   "source": [
    "pd.DataFrame(olcumler).plot.hist();"
   ]
  },
  {
   "cell_type": "code",
   "execution_count": 28,
   "id": "9111444f-1343-42cd-9d4a-7bff0f698a1b",
   "metadata": {},
   "outputs": [
    {
     "data": {
      "image/png": "[encoded data removed]",
      "text/plain": [
       "<Figure size 432x288 with 1 Axes>"
      ]
     },
     "metadata": {
      "needs_background": "light"
     },
     "output_type": "display_data"
    }
   ],
   "source": [
    "import pylab\n",
    "stats.probplot(olcumler, dist=\"norm\", plot=pylab)\n",
    "pylab.show()"
   ]
  },
  {
   "cell_type": "code",
   "execution_count": 29,
   "id": "3eb24f9c-7ac9-4fcc-b1c7-994daa7e47fb",
   "metadata": {},
   "outputs": [],
   "source": [
    "#Shapiro-Wilks Testi"
   ]
  },
  {
   "cell_type": "code",
   "execution_count": null,
   "id": "47bd5284-986a-4dc4-805a-fdfdaf3dfe09",
   "metadata": {},
   "outputs": [],
   "source": [
    "H0: Örnek dağılımı ile teorik normal arasında istatistiksel olarak anlamlı bir farklılık yoktur.                                            \n",
    "H1: ... fark vardır."
   ]
  },
  {
   "cell_type": "code",
   "execution_count": 30,
   "id": "29c5e00c-f92c-4ce9-99dc-ff917fff52a2",
   "metadata": {},
   "outputs": [],
   "source": [
    "from scipy.stats import shapiro"
   ]
  },
  {
   "cell_type": "code",
   "execution_count": 31,
   "id": "0a134eba-9cf4-4ef0-a8ec-115aa3c971cc",
   "metadata": {},
   "outputs": [
    {
     "data": {
      "text/plain": [
       "ShapiroResult(statistic=0.3214436173439026, pvalue=9.784369495169365e-12)"
      ]
     },
     "execution_count": 31,
     "metadata": {},
     "output_type": "execute_result"
    }
   ],
   "source": [
    "shapiro(olcumler)"
   ]
  },
  {
   "cell_type": "code",
   "execution_count": 32,
   "id": "fdc8aa47-8dbe-4cd5-8f16-9e28b521a05a",
   "metadata": {},
   "outputs": [
    {
     "name": "stdout",
     "output_type": "stream",
     "text": [
      "T Hesap İstatistiği:  0.3214436173439026\n",
      "Hesaplanan P-Value:  9.784369495169365e-12\n"
     ]
    }
   ],
   "source": [
    "print(\"T Hesap İstatistiği: \", str(shapiro(olcumler)[0]))\n",
    "print(\"Hesaplanan P-Value: \", str(shapiro(olcumler)[1]))"
   ]
  },
  {
   "cell_type": "code",
   "execution_count": 33,
   "id": "144b3d71-5eca-4c15-be49-5766f079c973",
   "metadata": {},
   "outputs": [],
   "source": [
    "#Hipotez Testinin Uygulanması"
   ]
  },
  {
   "cell_type": "code",
   "execution_count": 34,
   "id": "15236ec7-1c71-4e42-821f-e0cede2cbd48",
   "metadata": {},
   "outputs": [
    {
     "data": {
      "text/plain": [
       "Ttest_1sampResult(statistic=0.6929907147290718, pvalue=0.4928885024018712)"
      ]
     },
     "execution_count": 34,
     "metadata": {},
     "output_type": "execute_result"
    }
   ],
   "source": [
    "stats.ttest_1samp(olcumler,popmean=170)"
   ]
  },
  {
   "cell_type": "markdown",
   "id": "8b12cac0-d10b-4629-a68b-febb6db62669",
   "metadata": {},
   "source": [
    "H0: Web sitemizde ortalama geçirilen süre 170'dir.                                                          \n",
    "H1: ...değildir."
   ]
  },
  {
   "cell_type": "code",
   "execution_count": null,
   "id": "6ee93efd-fa28-40f6-bf7e-9434eb549ce9",
   "metadata": {},
   "outputs": [],
   "source": []
  }
 ],
 "metadata": {
  "kernelspec": {
   "display_name": "Python 3",
   "language": "python",
   "name": "python3"
  },
  "language_info": {
   "codemirror_mode": {
    "name": "ipython",
    "version": 3
   },
   "file_extension": ".py",
   "mimetype": "text/x-python",
   "name": "python",
   "nbconvert_exporter": "python",
   "pygments_lexer": "ipython3",
   "version": "3.8.8"
  }
 },
 "nbformat": 4,
 "nbformat_minor": 5
}
