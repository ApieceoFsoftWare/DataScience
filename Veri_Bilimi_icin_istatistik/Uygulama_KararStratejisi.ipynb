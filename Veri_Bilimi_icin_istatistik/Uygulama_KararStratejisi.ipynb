{
 "cells": [
  {
   "cell_type": "markdown",
   "id": "a14c79b3-ba48-4c01-af6d-23bf9e855a4c",
   "metadata": {},
   "source": [
    "**Güven Aralığı**"
   ]
  },
  {
   "cell_type": "code",
   "execution_count": 2,
   "id": "8bf192d7-6db9-4eb7-895f-ff27c3cee974",
   "metadata": {},
   "outputs": [],
   "source": [
    "#Anakütle parametresinin tahmini değerini kapsayabilecek iki sayıdan oluşan bir aralık bulunmasıdır!\n",
    "# Ölüçümün hassasiyetinin güvenilirliğidir..."
   ]
  },
  {
   "cell_type": "code",
   "execution_count": 3,
   "id": "a85ebad1-893a-4d14-bc4b-25f25ba24916",
   "metadata": {},
   "outputs": [],
   "source": [
    "#Güven aralığı nasıl hesaplanır? "
   ]
  },
  {
   "cell_type": "markdown",
   "id": "194be5b6-e221-4845-9080-7e2d89523214",
   "metadata": {},
   "source": [
    "**İş Uygulaması: Fiyat Stratejisi Karar Destek Sistemi**"
   ]
  },
  {
   "cell_type": "markdown",
   "id": "93f74e66-dbcd-4843-aa95-736d377956ad",
   "metadata": {},
   "source": [
    "**Problem** : CEO fiyat belirleme konusunda bilimsel bir dayanak ve esneklik istiyor...\n",
    "\n",
    "**Detaylar:** \n",
    "    \n",
    "    • Satıcı, alıcı ve ürün var.\n",
    "    \n",
    "    • Alıcılara ürüne ne kadar ücret ödediniz diye soruluyor.\n",
    "    \n",
    "    • Optimum fiyat bilimsel ve esnek olarak bulunmak isteniyor..."
   ]
  },
  {
   "cell_type": "code",
   "execution_count": 4,
   "id": "8bec8078-910e-4f88-8a01-4557ef61b224",
   "metadata": {},
   "outputs": [],
   "source": [
    "import numpy as np\n",
    "fiyatlar = np.random.randint(10,110,1000)"
   ]
  },
  {
   "cell_type": "code",
   "execution_count": 5,
   "id": "75ca923b-5115-48fd-adb3-dd357cd9ab33",
   "metadata": {},
   "outputs": [
    {
     "data": {
      "text/plain": [
       "60.334"
      ]
     },
     "execution_count": 5,
     "metadata": {},
     "output_type": "execute_result"
    }
   ],
   "source": [
    "fiyatlar.mean()"
   ]
  },
  {
   "cell_type": "code",
   "execution_count": 6,
   "id": "72cd0746-9399-47ef-b346-c2b3fc732d1a",
   "metadata": {},
   "outputs": [],
   "source": [
    "import statsmodels.stats.api as sms"
   ]
  },
  {
   "cell_type": "code",
   "execution_count": 7,
   "id": "4441ef99-45b5-43b3-930a-4ed928593618",
   "metadata": {},
   "outputs": [
    {
     "data": {
      "text/plain": [
       "(58.53510026945196, 62.13289973054805)"
      ]
     },
     "execution_count": 7,
     "metadata": {},
     "output_type": "execute_result"
    }
   ],
   "source": [
    "sms.DescrStatsW(fiyatlar).tconfint_mean()"
   ]
  },
  {
   "cell_type": "code",
   "execution_count": null,
   "id": "689c5d7c-f8a3-457c-af5e-afba59c5c0bb",
   "metadata": {},
   "outputs": [],
   "source": []
  }
 ],
 "metadata": {
  "kernelspec": {
   "display_name": "Python 3",
   "language": "python",
   "name": "python3"
  },
  "language_info": {
   "codemirror_mode": {
    "name": "ipython",
    "version": 3
   },
   "file_extension": ".py",
   "mimetype": "text/x-python",
   "name": "python",
   "nbconvert_exporter": "python",
   "pygments_lexer": "ipython3",
   "version": "3.8.8"
  }
 },
 "nbformat": 4,
 "nbformat_minor": 5
}
