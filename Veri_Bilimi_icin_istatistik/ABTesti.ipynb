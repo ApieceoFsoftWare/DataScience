{
 "cells": [
  {
   "cell_type": "markdown",
   "id": "25578d7d-cc77-4179-b3d1-c717c1f425a4",
   "metadata": {},
   "source": [
    "**Bağımsız İki Örneklem T Testi (AB Testi)**"
   ]
  },
  {
   "cell_type": "markdown",
   "id": "c68288d0-2f28-4cd3-9b4f-b1316df21396",
   "metadata": {},
   "source": [
    "İki grup ortalaması arasında karşılaştırma yapılmak istenildiğinde kullanılır."
   ]
  },
  {
   "cell_type": "markdown",
   "id": "b17d4fc1-d648-4873-bf5b-10a1e632c526",
   "metadata": {},
   "source": [
    "Varsayımlar:                                                                                      \n",
    "    -Normallik                                                                                      \n",
    "    -Varyans Homojenliği"
   ]
  },
  {
   "cell_type": "markdown",
   "id": "e4173a37-9aff-4e31-a328-302d33db3dd2",
   "metadata": {},
   "source": [
    "**İş Uygulaması: ML Modelinin Başarı Testi**"
   ]
  },
  {
   "cell_type": "markdown",
   "id": "df9b87d5-f7a9-4635-b49d-27f322fd5a34",
   "metadata": {},
   "source": [
    "Problem:                                                                                              \n",
    "    Bir ML Projesine yatırım yapılmış. Ürettiği tahminler neticesinde oluşan gelir ile eski sistemin ürettiği gelirler\n",
    "    karşılaştırılıp anlamlı farklılık olup olmadığını test edilmek isteniyor.                                         \n",
    "Detaylar:                                                                                \n",
    "    -Model geliştirilmiş ve web sitesine entegre edilmiş.                                                      \n",
    "    -Site kullanıcıları belirli bir kurala göre ikiye bölümüş olsun.                                       \n",
    "    -A grubu eski B grubu yeni sistem.                                                             \n",
    "    -Gelir anlamında anlamlı bir iş yapılıp yapılmadığı test edilmek isteniyor.                                        "
   ]
  },
  {
   "cell_type": "markdown",
   "id": "3d4492aa-0d48-47c8-96f7-0c0cab21c025",
   "metadata": {},
   "source": [
    "**Bağımsız İki Örneklem T Testi (AB Testi)**"
   ]
  },
  {
   "cell_type": "markdown",
   "id": "1befb5db-e2e4-402c-88c7-3e4192139b3e",
   "metadata": {},
   "source": [
    "HO: m1 = m2\n",
    "\n",
    "H1: m1!= m2"
   ]
  },
  {
   "cell_type": "code",
   "execution_count": 4,
   "id": "0c2daae8-c2a0-43f5-81c1-9b0c9015bf4b",
   "metadata": {},
   "outputs": [],
   "source": [
    "#Veri Tipi 1"
   ]
  },
  {
   "cell_type": "code",
   "execution_count": 6,
   "id": "1264c0a5-dbd1-45db-a14e-572073412ea3",
   "metadata": {},
   "outputs": [
    {
     "data": {
      "text/html": [
       "<div>\n",
       "<style scoped>\n",
       "    .dataframe tbody tr th:only-of-type {\n",
       "        vertical-align: middle;\n",
       "    }\n",
       "\n",
       "    .dataframe tbody tr th {\n",
       "        vertical-align: top;\n",
       "    }\n",
       "\n",
       "    .dataframe thead th {\n",
       "        text-align: right;\n",
       "    }\n",
       "</style>\n",
       "<table border=\"1\" class=\"dataframe\">\n",
       "  <thead>\n",
       "    <tr style=\"text-align: right;\">\n",
       "      <th></th>\n",
       "      <th>A</th>\n",
       "      <th>B</th>\n",
       "    </tr>\n",
       "  </thead>\n",
       "  <tbody>\n",
       "    <tr>\n",
       "      <th>0</th>\n",
       "      <td>30</td>\n",
       "      <td>37</td>\n",
       "    </tr>\n",
       "    <tr>\n",
       "      <th>1</th>\n",
       "      <td>27</td>\n",
       "      <td>39</td>\n",
       "    </tr>\n",
       "    <tr>\n",
       "      <th>2</th>\n",
       "      <td>21</td>\n",
       "      <td>31</td>\n",
       "    </tr>\n",
       "    <tr>\n",
       "      <th>3</th>\n",
       "      <td>27</td>\n",
       "      <td>31</td>\n",
       "    </tr>\n",
       "    <tr>\n",
       "      <th>4</th>\n",
       "      <td>29</td>\n",
       "      <td>34</td>\n",
       "    </tr>\n",
       "  </tbody>\n",
       "</table>\n",
       "</div>"
      ],
      "text/plain": [
       "    A   B\n",
       "0  30  37\n",
       "1  27  39\n",
       "2  21  31\n",
       "3  27  31\n",
       "4  29  34"
      ]
     },
     "execution_count": 6,
     "metadata": {},
     "output_type": "execute_result"
    }
   ],
   "source": [
    "import pandas as pd\n",
    "A = pd.DataFrame([30,27,21,27,29,30,20,20,27,32,35,22,24,23,25,27,23,27,23,25,21,18,24,26,33,26,27,28,19,25])\n",
    "B =pd.DataFrame([37,39,31,31,34,38,30,36,29,28,38,28,37,37,30,32,31,31,27,32,33,33,33,31,32,33,26,32,33,29])\n",
    "\n",
    "A_B = pd.concat([A, B], axis=1)\n",
    "A_B.columns=[\"A\",\"B\"]\n",
    "\n",
    "A_B.head()"
   ]
  },
  {
   "cell_type": "code",
   "execution_count": 7,
   "id": "111c811f-e18d-41f9-a47b-40fbdd50d6e0",
   "metadata": {},
   "outputs": [],
   "source": [
    "# Veri Tipi 2"
   ]
  },
  {
   "cell_type": "code",
   "execution_count": 13,
   "id": "fc5f4029-54fb-4c80-ae75-d5322494537e",
   "metadata": {},
   "outputs": [
    {
     "name": "stdout",
     "output_type": "stream",
     "text": [
      "   Gelir Grup\n",
      "0     30    A\n",
      "1     27    A\n",
      "2     21    A\n",
      "3     27    A\n",
      "4     29    A\n",
      "\n",
      "    Gelir Grup\n",
      "25     33    B\n",
      "26     26    B\n",
      "27     32    B\n",
      "28     33    B\n",
      "29     29    B\n"
     ]
    }
   ],
   "source": [
    "import numpy as np\n",
    "\n",
    "A = pd.DataFrame([30,27,21,27,29,30,20,20,27,32,35,22,24,23,25,27,23,27,23,25,21,18,24,26,33,26,27,28,19,25])\n",
    "B =pd.DataFrame([37,39,31,31,34,38,30,36,29,28,38,28,37,37,30,32,31,31,27,32,33,33,33,31,32,33,26,32,33,29])\n",
    "\n",
    "#A ve A'nın grubu\n",
    "GRUP_A = np.arange(len(A))\n",
    "GRUP_A = pd.DataFrame(GRUP_A)\n",
    "GRUP_A[:] =\"A\"\n",
    "A = pd.concat([A, GRUP_A], axis=1)\n",
    "\n",
    "#B ve B'nin grubu\n",
    "GRUP_B = np.arange(len(B))\n",
    "GRUP_B = pd.DataFrame(GRUP_B)\n",
    "GRUP_B[:] =\"B\"\n",
    "B = pd.concat([B, GRUP_B], axis=1)\n",
    "\n",
    "#Tüm Veri\n",
    "AB = pd.concat([A,B])\n",
    "AB.columns=[\"Gelir\",\"Grup\"]\n",
    "print(AB.head())\n",
    "print()\n",
    "print(AB.tail())\n"
   ]
  },
  {
   "cell_type": "code",
   "execution_count": 14,
   "id": "6b46daec-43dd-46c6-b71a-e1e283b467ba",
   "metadata": {},
   "outputs": [
    {
     "data": {
      "image/png": "[encoded data removed]",
      "text/plain": [
       "<Figure size 432x288 with 1 Axes>"
      ]
     },
     "metadata": {
      "needs_background": "light"
     },
     "output_type": "display_data"
    }
   ],
   "source": [
    "import seaborn as sns\n",
    "sns.boxplot(x=\"Grup\", y=\"Gelir\", data=AB);"
   ]
  },
  {
   "cell_type": "markdown",
   "id": "05d5b0de-7448-44fb-9fbb-72d763b8680d",
   "metadata": {},
   "source": [
    "**Varsayım Kontrolü**"
   ]
  },
  {
   "cell_type": "code",
   "execution_count": 17,
   "id": "6ec430b1-911b-4208-b3bb-5c03070d7303",
   "metadata": {},
   "outputs": [
    {
     "data": {
      "text/html": [
       "<div>\n",
       "<style scoped>\n",
       "    .dataframe tbody tr th:only-of-type {\n",
       "        vertical-align: middle;\n",
       "    }\n",
       "\n",
       "    .dataframe tbody tr th {\n",
       "        vertical-align: top;\n",
       "    }\n",
       "\n",
       "    .dataframe thead th {\n",
       "        text-align: right;\n",
       "    }\n",
       "</style>\n",
       "<table border=\"1\" class=\"dataframe\">\n",
       "  <thead>\n",
       "    <tr style=\"text-align: right;\">\n",
       "      <th></th>\n",
       "      <th>Gelir</th>\n",
       "      <th>Grup</th>\n",
       "    </tr>\n",
       "  </thead>\n",
       "  <tbody>\n",
       "    <tr>\n",
       "      <th>0</th>\n",
       "      <td>30</td>\n",
       "      <td>A</td>\n",
       "    </tr>\n",
       "    <tr>\n",
       "      <th>1</th>\n",
       "      <td>27</td>\n",
       "      <td>A</td>\n",
       "    </tr>\n",
       "    <tr>\n",
       "      <th>2</th>\n",
       "      <td>21</td>\n",
       "      <td>A</td>\n",
       "    </tr>\n",
       "    <tr>\n",
       "      <th>3</th>\n",
       "      <td>27</td>\n",
       "      <td>A</td>\n",
       "    </tr>\n",
       "    <tr>\n",
       "      <th>4</th>\n",
       "      <td>29</td>\n",
       "      <td>A</td>\n",
       "    </tr>\n",
       "  </tbody>\n",
       "</table>\n",
       "</div>"
      ],
      "text/plain": [
       "   Gelir Grup\n",
       "0     30    A\n",
       "1     27    A\n",
       "2     21    A\n",
       "3     27    A\n",
       "4     29    A"
      ]
     },
     "execution_count": 17,
     "metadata": {},
     "output_type": "execute_result"
    }
   ],
   "source": [
    "AB.head()"
   ]
  },
  {
   "cell_type": "code",
   "execution_count": 16,
   "id": "62f7ebfa-8357-4fb1-9344-a068c84a456d",
   "metadata": {},
   "outputs": [],
   "source": [
    "#normallik  varsayımı"
   ]
  },
  {
   "cell_type": "code",
   "execution_count": 18,
   "id": "b066d395-95ae-4adf-ba0d-298040e938aa",
   "metadata": {},
   "outputs": [
    {
     "data": {
      "text/plain": [
       "ShapiroResult(statistic=0.9789242148399353, pvalue=0.7962799668312073)"
      ]
     },
     "execution_count": 18,
     "metadata": {},
     "output_type": "execute_result"
    }
   ],
   "source": [
    "from scipy.stats import shapiro\n",
    "shapiro(A_B.A) #ilk grup için varsayım sağlanmaktadır. RED YOK"
   ]
  },
  {
   "cell_type": "code",
   "execution_count": 20,
   "id": "4d928834-3ffc-4d67-a15e-84c6033ccae8",
   "metadata": {},
   "outputs": [
    {
     "data": {
      "text/plain": [
       "ShapiroResult(statistic=0.9561260342597961, pvalue=0.24584221839904785)"
      ]
     },
     "execution_count": 20,
     "metadata": {},
     "output_type": "execute_result"
    }
   ],
   "source": [
    "shapiro(A_B.B) #ikinci grubumuz için de varsayım sağlanmaktadır. RED YOK "
   ]
  },
  {
   "cell_type": "markdown",
   "id": "ebe07adc-c591-4b66-beb7-bd8b372e4853",
   "metadata": {},
   "source": [
    "**Varyans Homejenliği Varsayımı**"
   ]
  },
  {
   "cell_type": "markdown",
   "id": "ebb9ef2f-993d-4c93-9a46-edc4d95e787a",
   "metadata": {},
   "source": [
    "HO: Varyanslar homejendir.\n",
    "\n",
    "H1: Varyanslar homojen değildir."
   ]
  },
  {
   "cell_type": "code",
   "execution_count": 25,
   "id": "32ab3a99-8891-4252-a220-cda4a29dd3e5",
   "metadata": {},
   "outputs": [
    {
     "data": {
      "text/plain": [
       "LeveneResult(statistic=1.1101802757158004, pvalue=0.2964124900636569)"
      ]
     },
     "execution_count": 25,
     "metadata": {},
     "output_type": "execute_result"
    }
   ],
   "source": [
    "import scipy.stats as stats\n",
    "stats.levene(A_B.A, A_B.B) #pvalue değeri H0'ın reddedilemeyeceğni söylüyor."
   ]
  },
  {
   "cell_type": "markdown",
   "id": "43021e89-71a3-4b2e-a646-9305b4a1fd44",
   "metadata": {},
   "source": [
    "**Hipotez Testi**"
   ]
  },
  {
   "cell_type": "code",
   "execution_count": 28,
   "id": "4b0db61a-5c85-49e8-bc62-666285f37e84",
   "metadata": {},
   "outputs": [
    {
     "data": {
      "text/plain": [
       "Ttest_indResult(statistic=-7.028690967745927, pvalue=2.6233215605475075e-09)"
      ]
     },
     "execution_count": 28,
     "metadata": {},
     "output_type": "execute_result"
    }
   ],
   "source": [
    "stats.ttest_ind(A_B[\"A\"], A_B[\"B\"], equal_var=True) #pValue değeri 0,05'den çok küçük olduğu için hipotez testi reddedilir.\n",
    "#Farklılık vardır."
   ]
  },
  {
   "cell_type": "code",
   "execution_count": 32,
   "id": "a545a5ef-0bb0-4630-b1cc-e09f7005d084",
   "metadata": {},
   "outputs": [
    {
     "name": "stdout",
     "output_type": "stream",
     "text": [
      "Test istatistiği = -7.0287, p_değeri= 0.0000\n"
     ]
    }
   ],
   "source": [
    "test_istatistiği, pvalue = stats.ttest_ind(A_B[\"A\"], A_B[\"B\"], equal_var=True)\n",
    "print('Test istatistiği = %.4f, p_değeri= %.4f'% (test_istatistiği,pvalue))\n",
    "\n",
    "#Yukarıdaki kodun aynısı fakat gösterilmesi daha kolay, anlaşılır!"
   ]
  },
  {
   "cell_type": "code",
   "execution_count": null,
   "id": "8d19b969-3dbc-493d-8f54-51244a77340a",
   "metadata": {},
   "outputs": [],
   "source": []
  }
 ],
 "metadata": {
  "kernelspec": {
   "display_name": "Python 3",
   "language": "python",
   "name": "python3"
  },
  "language_info": {
   "codemirror_mode": {
    "name": "ipython",
    "version": 3
   },
   "file_extension": ".py",
   "mimetype": "text/x-python",
   "name": "python",
   "nbconvert_exporter": "python",
   "pygments_lexer": "ipython3",
   "version": "3.8.8"
  }
 },
 "nbformat": 4,
 "nbformat_minor": 5
}
