{
 "cells": [
  {
   "cell_type": "markdown",
   "id": "0c33f38f-0074-486b-bef5-d9e4b9638a87",
   "metadata": {},
   "source": [
    "**Non-Parametrik Tek Örneklem Testi**"
   ]
  },
  {
   "cell_type": "code",
   "execution_count": 2,
   "id": "59f3ebe0-ff3c-4758-994b-7c49ec0ef61d",
   "metadata": {},
   "outputs": [],
   "source": [
    "from statsmodels.stats.descriptivestats import sign_test"
   ]
  },
  {
   "cell_type": "code",
   "execution_count": 4,
   "id": "b91b0bb8-c720-4d1b-bc7d-11777a8df51c",
   "metadata": {},
   "outputs": [
    {
     "data": {
      "text/plain": [
       "array([ 17, 160,  45,   1,   6,   1,  64,  68,  46,  65])"
      ]
     },
     "execution_count": 4,
     "metadata": {},
     "output_type": "execute_result"
    }
   ],
   "source": [
    "import numpy as np\n",
    "import pandas as pd\n",
    "\n",
    "olcumler=np.array([17,160,45,1,6,1,64,68,46,65,433,654,64,6,16,13,1,4,64,84,16,1,894,65,1,8,4987,46,13,168,41,651,794,28,94,6])\n",
    "olcumler[0:10]"
   ]
  },
  {
   "cell_type": "code",
   "execution_count": 5,
   "id": "2ae9d9da-3da2-4108-b4ce-f16afad1e602",
   "metadata": {},
   "outputs": [
    {
     "data": {
      "text/plain": [
       "(-12.0, 6.960169412195683e-05)"
      ]
     },
     "execution_count": 5,
     "metadata": {},
     "output_type": "execute_result"
    }
   ],
   "source": [
    "sign_test(olcumler, 170) "
   ]
  },
  {
   "cell_type": "code",
   "execution_count": null,
   "id": "75d005f3-4dbe-4a9b-ae9b-bff2f5456b9c",
   "metadata": {},
   "outputs": [],
   "source": []
  }
 ],
 "metadata": {
  "kernelspec": {
   "display_name": "Python 3",
   "language": "python",
   "name": "python3"
  },
  "language_info": {
   "codemirror_mode": {
    "name": "ipython",
    "version": 3
   },
   "file_extension": ".py",
   "mimetype": "text/x-python",
   "name": "python",
   "nbconvert_exporter": "python",
   "pygments_lexer": "ipython3",
   "version": "3.8.8"
  }
 },
 "nbformat": 4,
 "nbformat_minor": 5
}
