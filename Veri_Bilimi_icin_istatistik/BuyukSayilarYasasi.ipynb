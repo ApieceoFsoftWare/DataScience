{
 "cells": [
  {
   "cell_type": "markdown",
   "id": "6a28dbae-4a03-4d8f-95ae-333c47ecb958",
   "metadata": {},
   "source": [
    "**Büyük Sayılar Yasası**"
   ]
  },
  {
   "cell_type": "markdown",
   "id": "782858d7-8490-4622-bf6d-c0c8c01ab181",
   "metadata": {},
   "source": [
    "*Bir rassal değişkenin uzun vadeli kararlılığını tanımlayan olasılık teoremidir.*"
   ]
  },
  {
   "cell_type": "code",
   "execution_count": 3,
   "id": "1da0658f-4a59-4ebf-8be6-7498be932ffa",
   "metadata": {},
   "outputs": [
    {
     "name": "stdout",
     "output_type": "stream",
     "text": [
      "Atış sayısı: 2 --- Yazı olassılığı : 50.00\n",
      "Atış sayısı: 4 --- Yazı olassılığı : 0.00\n",
      "Atış sayısı: 8 --- Yazı olassılığı : 62.50\n",
      "Atış sayısı: 16 --- Yazı olassılığı : 43.75\n",
      "Atış sayısı: 32 --- Yazı olassılığı : 46.88\n",
      "Atış sayısı: 64 --- Yazı olassılığı : 56.25\n",
      "Atış sayısı: 128 --- Yazı olassılığı : 50.78\n",
      "Atış sayısı: 256 --- Yazı olassılığı : 52.73\n",
      "Atış sayısı: 512 --- Yazı olassılığı : 52.93\n",
      "Atış sayısı: 1024 --- Yazı olassılığı : 50.20\n",
      "Atış sayısı: 2048 --- Yazı olassılığı : 48.58\n",
      "Atış sayısı: 4096 --- Yazı olassılığı : 49.49\n",
      "Atış sayısı: 8192 --- Yazı olassılığı : 49.58\n",
      "Atış sayısı: 16384 --- Yazı olassılığı : 49.96\n",
      "Atış sayısı: 32768 --- Yazı olassılığı : 50.00\n",
      "Atış sayısı: 65536 --- Yazı olassılığı : 49.68\n",
      "Atış sayısı: 131072 --- Yazı olassılığı : 49.97\n",
      "Atış sayısı: 262144 --- Yazı olassılığı : 50.13\n",
      "Atış sayısı: 524288 --- Yazı olassılığı : 50.01\n",
      "Atış sayısı: 1048576 --- Yazı olassılığı : 50.09\n"
     ]
    }
   ],
   "source": [
    "import numpy as np\n",
    "rng = np.random.RandomState(123)\n",
    "for i in np.arange(1,21):\n",
    "    deney_sayisi=2**i\n",
    "    yazi_turalar=rng.randint(0,2, size=deney_sayisi)\n",
    "    yazi_olasiliklari = np.mean(yazi_turalar)\n",
    "    print(\"Atış sayısı:\", deney_sayisi, \"---\", 'Yazı olassılığı : %.2f' % (yazi_olasiliklari*100))"
   ]
  },
  {
   "cell_type": "code",
   "execution_count": null,
   "id": "d51de7aa-d817-4589-9162-d5675ee0184a",
   "metadata": {},
   "outputs": [],
   "source": []
  }
 ],
 "metadata": {
  "kernelspec": {
   "display_name": "Python 3",
   "language": "python",
   "name": "python3"
  },
  "language_info": {
   "codemirror_mode": {
    "name": "ipython",
    "version": 3
   },
   "file_extension": ".py",
   "mimetype": "text/x-python",
   "name": "python",
   "nbconvert_exporter": "python",
   "pygments_lexer": "ipython3",
   "version": "3.8.8"
  }
 },
 "nbformat": 4,
 "nbformat_minor": 5
}
