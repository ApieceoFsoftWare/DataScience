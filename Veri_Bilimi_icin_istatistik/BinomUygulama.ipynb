{
 "cells": [
  {
   "cell_type": "markdown",
   "id": "f2ad3c6e-08db-4a84-9c6b-7d8e7e0fdbdc",
   "metadata": {},
   "source": [
    "**İş Uygulaması: Reklam Harcaması Optimizasyonu**"
   ]
  },
  {
   "cell_type": "markdown",
   "id": "cba8ed53-d55a-4da4-8c59-5260faf7c836",
   "metadata": {},
   "source": [
    "*Problem:*\n",
    "    Çeşitli mecralara reklam veriliyor, reklamların tıklanma ve geri dönüşüm oranları optimize edilmeye çalışılıyor. \n",
    "    Buna yönelik olarak belirli bir mecrada çeşitli senaryolara göre reklama tıklama olasılıkları hesaplanmak isteniyor."
   ]
  },
  {
   "cell_type": "markdown",
   "id": "1d81f163-2e5f-4365-9786-165d42b5c791",
   "metadata": {},
   "source": [
    "*Detaylar:*\n",
    "    \n",
    "    •Bir mecrada reklam verilecek.\n",
    "    •Dağılım ve reklama tıklama olasılığı biliniyor(0.01)\n",
    "    Soru:Reklamı 100 kişi gördüğünde 1,5,10 tıklanması olasılığı nedir?\n",
    "    "
   ]
  },
  {
   "cell_type": "code",
   "execution_count": 3,
   "id": "1fd865ab-7b42-4ee8-a8f5-f1ae6214ffa0",
   "metadata": {},
   "outputs": [],
   "source": [
    "from scipy.stats import binom"
   ]
  },
  {
   "cell_type": "code",
   "execution_count": 4,
   "id": "2ef16090-eeeb-4d2d-9b42-6658a9aa8972",
   "metadata": {},
   "outputs": [
    {
     "name": "stdout",
     "output_type": "stream",
     "text": [
      "0.36972963764971983\n",
      "0.0028977871237616114\n",
      "7.006035693977161e-08\n"
     ]
    }
   ],
   "source": [
    "p = 0.01\n",
    "n = 100\n",
    "rv = binom(n,p)\n",
    "print(rv.pmf(1))\n",
    "print(rv.pmf(5))\n",
    "print(rv.pmf(10))"
   ]
  },
  {
   "cell_type": "code",
   "execution_count": null,
   "id": "efe85875-2646-41cb-b0c2-25caf95cc4cf",
   "metadata": {},
   "outputs": [],
   "source": []
  }
 ],
 "metadata": {
  "kernelspec": {
   "display_name": "Python 3",
   "language": "python",
   "name": "python3"
  },
  "language_info": {
   "codemirror_mode": {
    "name": "ipython",
    "version": 3
   },
   "file_extension": ".py",
   "mimetype": "text/x-python",
   "name": "python",
   "nbconvert_exporter": "python",
   "pygments_lexer": "ipython3",
   "version": "3.8.8"
  }
 },
 "nbformat": 4,
 "nbformat_minor": 5
}
