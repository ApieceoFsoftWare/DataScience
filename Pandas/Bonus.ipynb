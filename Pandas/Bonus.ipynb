{
 "cells": [
  {
   "cell_type": "markdown",
   "id": "fab90778-0f11-4208-adee-ee4af0ba9991",
   "metadata": {},
   "source": [
    "**Bonus : Problem Çözme ve Doküman Okuma Kültürü**"
   ]
  },
  {
   "cell_type": "code",
   "execution_count": null,
   "id": "58a01ecb-f6aa-4e30-b5d8-81f4005f0633",
   "metadata": {},
   "outputs": [],
   "source": []
  }
 ],
 "metadata": {
  "kernelspec": {
   "display_name": "Python 3",
   "language": "python",
   "name": "python3"
  },
  "language_info": {
   "codemirror_mode": {
    "name": "ipython",
    "version": 3
   },
   "file_extension": ".py",
   "mimetype": "text/x-python",
   "name": "python",
   "nbconvert_exporter": "python",
   "pygments_lexer": "ipython3",
   "version": "3.8.8"
  }
 },
 "nbformat": 4,
 "nbformat_minor": 5
}
