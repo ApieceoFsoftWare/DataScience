{
 "cells": [
  {
   "cell_type": "markdown",
   "id": "bccc442b-748a-484c-8868-bac69607ad78",
   "metadata": {},
   "source": [
    "**Eleman İşlemleri**"
   ]
  },
  {
   "cell_type": "code",
   "execution_count": 3,
   "id": "cd1375cd-18ea-4eaf-84b1-ba3cf50f0396",
   "metadata": {},
   "outputs": [],
   "source": [
    "import numpy as np\n",
    "import pandas as pd\n"
   ]
  },
  {
   "cell_type": "code",
   "execution_count": 4,
   "id": "d1797766-9fec-4283-b22e-a4559e9389c7",
   "metadata": {},
   "outputs": [
    {
     "data": {
      "text/plain": [
       "0    17\n",
       "1     2\n",
       "2    53\n",
       "3    40\n",
       "4     5\n",
       "5    63\n",
       "dtype: int32"
      ]
     },
     "execution_count": 4,
     "metadata": {},
     "output_type": "execute_result"
    }
   ],
   "source": [
    "a = np.array([17,2,53,40,5,63])\n",
    "seri = pd.Series(a)\n",
    "seri"
   ]
  },
  {
   "cell_type": "code",
   "execution_count": 5,
   "id": "d713d498-8a03-465d-ba39-f5905b824f85",
   "metadata": {},
   "outputs": [
    {
     "data": {
      "text/plain": [
       "17"
      ]
     },
     "execution_count": 5,
     "metadata": {},
     "output_type": "execute_result"
    }
   ],
   "source": [
    "seri[0]"
   ]
  },
  {
   "cell_type": "code",
   "execution_count": 6,
   "id": "b9cead46-f963-44c2-b99c-a16ffaeba40b",
   "metadata": {},
   "outputs": [
    {
     "data": {
      "text/plain": [
       "0    17\n",
       "1     2\n",
       "2    53\n",
       "3    40\n",
       "4     5\n",
       "dtype: int32"
      ]
     },
     "execution_count": 6,
     "metadata": {},
     "output_type": "execute_result"
    }
   ],
   "source": [
    "seri[0:5]"
   ]
  },
  {
   "cell_type": "code",
   "execution_count": 7,
   "id": "08c3dc73-5d54-48f9-966a-67ae2bae0d9d",
   "metadata": {},
   "outputs": [],
   "source": [
    "seri = pd.Series([1651,516,8,16,61,987,441], index = [\"a\",\"b\",\"c\",\"d\",\"e\",\"f\",\"g\"])"
   ]
  },
  {
   "cell_type": "code",
   "execution_count": 8,
   "id": "3f1cd577-ed5f-41f4-82ad-c46777c660c0",
   "metadata": {},
   "outputs": [
    {
     "data": {
      "text/plain": [
       "a    1651\n",
       "b     516\n",
       "c       8\n",
       "d      16\n",
       "e      61\n",
       "f     987\n",
       "g     441\n",
       "dtype: int64"
      ]
     },
     "execution_count": 8,
     "metadata": {},
     "output_type": "execute_result"
    }
   ],
   "source": [
    "seri"
   ]
  },
  {
   "cell_type": "code",
   "execution_count": 9,
   "id": "a5a26bd9-550c-44dd-a05b-1f87a20752f8",
   "metadata": {},
   "outputs": [
    {
     "data": {
      "text/plain": [
       "Index(['a', 'b', 'c', 'd', 'e', 'f', 'g'], dtype='object')"
      ]
     },
     "execution_count": 9,
     "metadata": {},
     "output_type": "execute_result"
    }
   ],
   "source": [
    "seri.index"
   ]
  },
  {
   "cell_type": "code",
   "execution_count": 10,
   "id": "d109d457-c4c8-49dc-8dbd-fac1c0749027",
   "metadata": {},
   "outputs": [
    {
     "data": {
      "text/plain": [
       "<bound method Series.keys of a    1651\n",
       "b     516\n",
       "c       8\n",
       "d      16\n",
       "e      61\n",
       "f     987\n",
       "g     441\n",
       "dtype: int64>"
      ]
     },
     "execution_count": 10,
     "metadata": {},
     "output_type": "execute_result"
    }
   ],
   "source": [
    "seri.keys"
   ]
  },
  {
   "cell_type": "code",
   "execution_count": 13,
   "id": "06610916-411e-4786-a08d-f676da96b18b",
   "metadata": {},
   "outputs": [
    {
     "data": {
      "text/plain": [
       "[('a', 1651),\n",
       " ('b', 516),\n",
       " ('c', 8),\n",
       " ('d', 16),\n",
       " ('e', 61),\n",
       " ('f', 987),\n",
       " ('g', 441)]"
      ]
     },
     "execution_count": 13,
     "metadata": {},
     "output_type": "execute_result"
    }
   ],
   "source": [
    "list(seri.items())"
   ]
  },
  {
   "cell_type": "markdown",
   "id": "505bac4f-db7e-4ea7-804e-4cd5b4f587e0",
   "metadata": {},
   "source": [
    "**Eleman Sorgulama**"
   ]
  },
  {
   "cell_type": "code",
   "execution_count": 14,
   "id": "ab843126-7c47-4400-b07a-516a80a10533",
   "metadata": {},
   "outputs": [
    {
     "data": {
      "text/plain": [
       "True"
      ]
     },
     "execution_count": 14,
     "metadata": {},
     "output_type": "execute_result"
    }
   ],
   "source": [
    "\"c\" in seri"
   ]
  },
  {
   "cell_type": "code",
   "execution_count": 15,
   "id": "30010c50-59b3-403a-b818-2ba0c90b1a0f",
   "metadata": {},
   "outputs": [
    {
     "data": {
      "text/plain": [
       "False"
      ]
     },
     "execution_count": 15,
     "metadata": {},
     "output_type": "execute_result"
    }
   ],
   "source": [
    "\"reg\" in seri"
   ]
  },
  {
   "cell_type": "code",
   "execution_count": 16,
   "id": "7ee3a35b-b55d-4d44-9605-58f911c3cc50",
   "metadata": {},
   "outputs": [
    {
     "data": {
      "text/plain": [
       "16"
      ]
     },
     "execution_count": 16,
     "metadata": {},
     "output_type": "execute_result"
    }
   ],
   "source": [
    "seri[\"d\"]"
   ]
  },
  {
   "cell_type": "markdown",
   "id": "37cad2a5-1ac9-4b55-acec-ef145009b538",
   "metadata": {},
   "source": [
    "**Fancy İndex Yaklaşımı**"
   ]
  },
  {
   "cell_type": "code",
   "execution_count": 17,
   "id": "cf95f485-2c05-4b81-abf6-f0bd2b7fcf26",
   "metadata": {},
   "outputs": [
    {
     "data": {
      "text/plain": [
       "a    1651\n",
       "c       8\n",
       "dtype: int64"
      ]
     },
     "execution_count": 17,
     "metadata": {},
     "output_type": "execute_result"
    }
   ],
   "source": [
    "seri[[\"a\",\"c\"]]"
   ]
  },
  {
   "cell_type": "code",
   "execution_count": 18,
   "id": "68da1578-911e-4e0a-acb3-a3cd66192fb1",
   "metadata": {},
   "outputs": [],
   "source": [
    "seri[\"d\"] = 141"
   ]
  },
  {
   "cell_type": "code",
   "execution_count": 19,
   "id": "81defd1f-1b87-4ee6-8f95-3ff21731cea3",
   "metadata": {},
   "outputs": [
    {
     "data": {
      "text/plain": [
       "141"
      ]
     },
     "execution_count": 19,
     "metadata": {},
     "output_type": "execute_result"
    }
   ],
   "source": [
    "seri[\"d\"]"
   ]
  },
  {
   "cell_type": "code",
   "execution_count": 20,
   "id": "04c20326-ed32-468d-8ba2-d436a2c8bedf",
   "metadata": {},
   "outputs": [
    {
     "data": {
      "text/plain": [
       "a    1651\n",
       "b     516\n",
       "c       8\n",
       "d     141\n",
       "e      61\n",
       "f     987\n",
       "g     441\n",
       "dtype: int64"
      ]
     },
     "execution_count": 20,
     "metadata": {},
     "output_type": "execute_result"
    }
   ],
   "source": [
    "seri"
   ]
  },
  {
   "cell_type": "code",
   "execution_count": 21,
   "id": "490aa2e7-d828-4d51-b4f6-2111d351c7d6",
   "metadata": {},
   "outputs": [
    {
     "data": {
      "text/plain": [
       "a    1651\n",
       "b     516\n",
       "c       8\n",
       "d     141\n",
       "dtype: int64"
      ]
     },
     "execution_count": 21,
     "metadata": {},
     "output_type": "execute_result"
    }
   ],
   "source": [
    "seri[\"a\" : \"d\"] "
   ]
  },
  {
   "cell_type": "code",
   "execution_count": null,
   "id": "fc0d46fa-01d1-4cd5-bdbe-6e2d66cad8da",
   "metadata": {},
   "outputs": [],
   "source": []
  }
 ],
 "metadata": {
  "kernelspec": {
   "display_name": "Python 3",
   "language": "python",
   "name": "python3"
  },
  "language_info": {
   "codemirror_mode": {
    "name": "ipython",
    "version": 3
   },
   "file_extension": ".py",
   "mimetype": "text/x-python",
   "name": "python",
   "nbconvert_exporter": "python",
   "pygments_lexer": "ipython3",
   "version": "3.8.8"
  }
 },
 "nbformat": 4,
 "nbformat_minor": 5
}
