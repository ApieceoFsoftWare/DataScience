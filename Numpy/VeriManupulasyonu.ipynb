{
 "cells": [
  {
   "cell_type": "markdown",
   "id": "84e50872-2f2b-4580-aa26-fe95cdfa4f72",
   "metadata": {},
   "source": [
    "#Neden Numpy?"
   ]
  },
  {
   "cell_type": "code",
   "execution_count": 10,
   "id": "5d7f5d56-0dd6-4327-9886-b92e8877e436",
   "metadata": {},
   "outputs": [],
   "source": [
    "a=[1,2,3,4]\n",
    "b=[2,3,4,5]\n",
    "    "
   ]
  },
  {
   "cell_type": "code",
   "execution_count": 6,
   "id": "93dfed6a-5353-4a2c-89fe-3df078200a0f",
   "metadata": {},
   "outputs": [
    {
     "data": {
      "text/plain": [
       "[2, 6, 12, 20]"
      ]
     },
     "execution_count": 6,
     "metadata": {},
     "output_type": "execute_result"
    }
   ],
   "source": [
    "ab=[]\n",
    "for i in range(0,len(a)):\n",
    "    ab.append(a[i]*b[i])\n",
    "\n",
    "ab    "
   ]
  },
  {
   "cell_type": "code",
   "execution_count": 7,
   "id": "0ee86128-fa0a-4df2-af99-97edd5450a3c",
   "metadata": {},
   "outputs": [],
   "source": [
    "import numpy as np"
   ]
  },
  {
   "cell_type": "code",
   "execution_count": 11,
   "id": "fcda1070-467e-49cc-9d12-b269c1b610f5",
   "metadata": {},
   "outputs": [],
   "source": [
    "a = np.array([1,2,3,4])\n",
    "b = np.array([2,3,4,5])\n"
   ]
  },
  {
   "cell_type": "code",
   "execution_count": 9,
   "id": "adb6f283-1f8e-4145-8724-d36866092c7b",
   "metadata": {},
   "outputs": [
    {
     "data": {
      "text/plain": [
       "array([ 2,  6, 12, 20])"
      ]
     },
     "execution_count": 9,
     "metadata": {},
     "output_type": "execute_result"
    }
   ],
   "source": [
    "a*b"
   ]
  },
  {
   "cell_type": "code",
   "execution_count": 12,
   "id": "cf936acc-0cbf-4ff6-a278-5912c9990d46",
   "metadata": {},
   "outputs": [],
   "source": [
    "a = np.array([1,2,3,4,5])"
   ]
  },
  {
   "cell_type": "code",
   "execution_count": 13,
   "id": "e1f84c95-0197-4a98-9b3d-7768f2381a44",
   "metadata": {},
   "outputs": [
    {
     "data": {
      "text/plain": [
       "numpy.ndarray"
      ]
     },
     "execution_count": 13,
     "metadata": {},
     "output_type": "execute_result"
    }
   ],
   "source": [
    "type(a)"
   ]
  },
  {
   "cell_type": "code",
   "execution_count": 16,
   "id": "daecf49a-c565-43fd-b212-4225ba60b5b5",
   "metadata": {},
   "outputs": [
    {
     "data": {
      "text/plain": [
       "array([ 3.14, 30.  ,  4.  ], dtype=float32)"
      ]
     },
     "execution_count": 16,
     "metadata": {},
     "output_type": "execute_result"
    }
   ],
   "source": [
    "np.array([3.14 ,30, 4] , dtype=\"float32\")"
   ]
  },
  {
   "cell_type": "markdown",
   "id": "076d176f-aa6e-4834-9c44-3a65faabe0df",
   "metadata": {},
   "source": [
    "Sıfırdan Array Oluşturma"
   ]
  },
  {
   "cell_type": "code",
   "execution_count": 18,
   "id": "d0bf00e8-e85a-40ba-a1e1-d7da0f2ef936",
   "metadata": {},
   "outputs": [
    {
     "data": {
      "text/plain": [
       "array([0, 0, 0, 0, 0, 0, 0, 0, 0, 0])"
      ]
     },
     "execution_count": 18,
     "metadata": {},
     "output_type": "execute_result"
    }
   ],
   "source": [
    "np.zeros(10, dtype=int)"
   ]
  },
  {
   "cell_type": "code",
   "execution_count": 19,
   "id": "20f99ff8-11a0-4481-ac29-5e2aa0a046fc",
   "metadata": {},
   "outputs": [
    {
     "data": {
      "text/plain": [
       "array([[1, 1, 1, 1, 1],\n",
       "       [1, 1, 1, 1, 1],\n",
       "       [1, 1, 1, 1, 1]])"
      ]
     },
     "execution_count": 19,
     "metadata": {},
     "output_type": "execute_result"
    }
   ],
   "source": [
    "np.ones((3,5), dtype=int)"
   ]
  },
  {
   "cell_type": "code",
   "execution_count": 20,
   "id": "25a6a371-0274-4dfe-b531-3194a8569833",
   "metadata": {},
   "outputs": [
    {
     "data": {
      "text/plain": [
       "array([[3, 3, 3, 3, 3],\n",
       "       [3, 3, 3, 3, 3],\n",
       "       [3, 3, 3, 3, 3]])"
      ]
     },
     "execution_count": 20,
     "metadata": {},
     "output_type": "execute_result"
    }
   ],
   "source": [
    "np.full((3,5),3)"
   ]
  },
  {
   "cell_type": "code",
   "execution_count": 21,
   "id": "e5f396eb-fa41-4fe7-98fd-84da9150241f",
   "metadata": {},
   "outputs": [
    {
     "data": {
      "text/plain": [
       "array([ 0,  3,  6,  9, 12, 15, 18, 21, 24, 27, 30])"
      ]
     },
     "execution_count": 21,
     "metadata": {},
     "output_type": "execute_result"
    }
   ],
   "source": [
    "np.arange(0,31,3)    "
   ]
  },
  {
   "cell_type": "code",
   "execution_count": 22,
   "id": "68f56f4d-3195-42c5-828e-5b70123c7e1c",
   "metadata": {},
   "outputs": [
    {
     "data": {
      "text/plain": [
       "array([0.        , 0.11111111, 0.22222222, 0.33333333, 0.44444444,\n",
       "       0.55555556, 0.66666667, 0.77777778, 0.88888889, 1.        ])"
      ]
     },
     "execution_count": 22,
     "metadata": {},
     "output_type": "execute_result"
    }
   ],
   "source": [
    "np.linspace(0,1,10)"
   ]
  },
  {
   "cell_type": "code",
   "execution_count": 25,
   "id": "b06f58f2-bcec-4e5f-9666-b9cb68939b42",
   "metadata": {},
   "outputs": [
    {
     "data": {
      "text/plain": [
       "array([[10.63090164, 10.96329694,  7.52320866, 12.23793494],\n",
       "       [14.88681798, 10.32168424, 15.1956608 ,  0.36167335],\n",
       "       [ 6.01003377, 11.71584116, 16.23187826,  6.33314628]])"
      ]
     },
     "execution_count": 25,
     "metadata": {},
     "output_type": "execute_result"
    }
   ],
   "source": [
    "np.random.normal(10,4,(3,4))"
   ]
  },
  {
   "cell_type": "code",
   "execution_count": 27,
   "id": "4c46048a-5502-4862-9293-8a6dfb15391e",
   "metadata": {},
   "outputs": [
    {
     "data": {
      "text/plain": [
       "array([[9, 1, 3],\n",
       "       [1, 4, 1],\n",
       "       [9, 3, 6]])"
      ]
     },
     "execution_count": 27,
     "metadata": {},
     "output_type": "execute_result"
    }
   ],
   "source": [
    "np.random.randint(0,10,(3,3))"
   ]
  }
 ],
 "metadata": {
  "kernelspec": {
   "display_name": "Python 3",
   "language": "python",
   "name": "python3"
  },
  "language_info": {
   "codemirror_mode": {
    "name": "ipython",
    "version": 3
   },
   "file_extension": ".py",
   "mimetype": "text/x-python",
   "name": "python",
   "nbconvert_exporter": "python",
   "pygments_lexer": "ipython3",
   "version": "3.8.8"
  }
 },
 "nbformat": 4,
 "nbformat_minor": 5
}
