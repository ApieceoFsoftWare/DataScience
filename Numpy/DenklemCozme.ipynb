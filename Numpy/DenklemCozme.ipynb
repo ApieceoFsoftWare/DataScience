{
 "cells": [
  {
   "cell_type": "markdown",
   "id": "6beedc24-72e8-4b72-a885-25bf010a665d",
   "metadata": {},
   "source": [
    "**Numpy ile İki Bilinmeyenli Denklem Çözümü**"
   ]
  },
  {
   "cell_type": "code",
   "execution_count": 3,
   "id": "56842bce-8677-409d-a592-4b792752a28c",
   "metadata": {},
   "outputs": [],
   "source": [
    "import numpy as np"
   ]
  },
  {
   "cell_type": "markdown",
   "id": "a4415aa4-afef-4954-8845-ca7f20dca1fb",
   "metadata": {},
   "source": [
    "5xO + x1 = 12\n",
    "\n",
    "x0 + 3x1 = 10"
   ]
  },
  {
   "cell_type": "code",
   "execution_count": 5,
   "id": "9d5f7841-c44c-4e44-9706-6313c008e78a",
   "metadata": {},
   "outputs": [],
   "source": [
    "a = np.array([[5,1],[1,3]])\n",
    "b = np.array([12,10])"
   ]
  },
  {
   "cell_type": "code",
   "execution_count": 6,
   "id": "f2646432-2978-4351-bdee-fc6fdfef531d",
   "metadata": {},
   "outputs": [
    {
     "data": {
      "text/plain": [
       "array([[5, 1],\n",
       "       [1, 3]])"
      ]
     },
     "execution_count": 6,
     "metadata": {},
     "output_type": "execute_result"
    }
   ],
   "source": [
    "a"
   ]
  },
  {
   "cell_type": "code",
   "execution_count": 7,
   "id": "aad78774-b918-4159-a7dd-9c94bbd531b5",
   "metadata": {},
   "outputs": [
    {
     "data": {
      "text/plain": [
       "array([12, 10])"
      ]
     },
     "execution_count": 7,
     "metadata": {},
     "output_type": "execute_result"
    }
   ],
   "source": [
    "b"
   ]
  },
  {
   "cell_type": "code",
   "execution_count": 8,
   "id": "7eef2fa1-1a88-4c0f-90d3-f8ab40f98a51",
   "metadata": {},
   "outputs": [
    {
     "data": {
      "text/plain": [
       "array([1.85714286, 2.71428571])"
      ]
     },
     "execution_count": 8,
     "metadata": {},
     "output_type": "execute_result"
    }
   ],
   "source": [
    "x = np.linalg.solve(a,b)\n",
    "x"
   ]
  },
  {
   "cell_type": "code",
   "execution_count": null,
   "id": "b7528d7e-2758-4234-83e7-89a2d97d99fb",
   "metadata": {},
   "outputs": [],
   "source": []
  }
 ],
 "metadata": {
  "kernelspec": {
   "display_name": "Python 3",
   "language": "python",
   "name": "python3"
  },
  "language_info": {
   "codemirror_mode": {
    "name": "ipython",
    "version": 3
   },
   "file_extension": ".py",
   "mimetype": "text/x-python",
   "name": "python",
   "nbconvert_exporter": "python",
   "pygments_lexer": "ipython3",
   "version": "3.8.8"
  }
 },
 "nbformat": 4,
 "nbformat_minor": 5
}
