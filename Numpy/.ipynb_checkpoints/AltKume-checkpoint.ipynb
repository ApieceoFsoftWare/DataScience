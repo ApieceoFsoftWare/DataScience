{
 "cells": [
  {
   "cell_type": "markdown",
   "id": "9089851c-d654-48db-9532-4aba106f9535",
   "metadata": {},
   "source": [
    "**Array Alt Kümesine Erişmek**"
   ]
  },
  {
   "cell_type": "code",
   "execution_count": 1,
   "id": "efdf5c34-e301-4de2-a076-37092458c1b1",
   "metadata": {},
   "outputs": [],
   "source": [
    "import numpy as np"
   ]
  },
  {
   "cell_type": "code",
   "execution_count": 2,
   "id": "971f265c-13b1-4a2a-958a-4b0d2c8c77ce",
   "metadata": {},
   "outputs": [
    {
     "data": {
      "text/plain": [
       "array([20, 21, 22, 23, 24, 25, 26, 27, 28, 29])"
      ]
     },
     "execution_count": 2,
     "metadata": {},
     "output_type": "execute_result"
    }
   ],
   "source": [
    "a = np.arange(20,30)\n",
    "a"
   ]
  },
  {
   "cell_type": "code",
   "execution_count": 3,
   "id": "0b434b89-f849-47ee-90b7-075681c443b9",
   "metadata": {},
   "outputs": [
    {
     "data": {
      "text/plain": [
       "array([20, 21, 22, 23])"
      ]
     },
     "execution_count": 3,
     "metadata": {},
     "output_type": "execute_result"
    }
   ],
   "source": [
    "a[0:4]"
   ]
  },
  {
   "cell_type": "code",
   "execution_count": 4,
   "id": "6e2d1dad-cd28-4399-8601-9af550a22ad2",
   "metadata": {},
   "outputs": [
    {
     "data": {
      "text/plain": [
       "array([23, 24, 25, 26, 27, 28, 29])"
      ]
     },
     "execution_count": 4,
     "metadata": {},
     "output_type": "execute_result"
    }
   ],
   "source": [
    "a[3:]"
   ]
  },
  {
   "cell_type": "code",
   "execution_count": 5,
   "id": "4e437fea-0639-477d-aa69-b6e0c1a27fe8",
   "metadata": {},
   "outputs": [
    {
     "data": {
      "text/plain": [
       "array([21, 23, 25, 27, 29])"
      ]
     },
     "execution_count": 5,
     "metadata": {},
     "output_type": "execute_result"
    }
   ],
   "source": [
    "a[1::2]"
   ]
  },
  {
   "cell_type": "code",
   "execution_count": 6,
   "id": "942a67df-4a5b-4f01-94ac-f180ad6ffafc",
   "metadata": {},
   "outputs": [
    {
     "data": {
      "text/plain": [
       "array([20, 22, 24, 26, 28])"
      ]
     },
     "execution_count": 6,
     "metadata": {},
     "output_type": "execute_result"
    }
   ],
   "source": [
    "a[0::2]"
   ]
  },
  {
   "cell_type": "code",
   "execution_count": 7,
   "id": "7ac89b97-7925-401e-877e-f26c98b02b4e",
   "metadata": {},
   "outputs": [
    {
     "data": {
      "text/plain": [
       "array([22, 24, 26, 28])"
      ]
     },
     "execution_count": 7,
     "metadata": {},
     "output_type": "execute_result"
    }
   ],
   "source": [
    "a[2::2]"
   ]
  },
  {
   "cell_type": "markdown",
   "id": "7f648444-aa81-46a2-874e-c60b9f7f5e0a",
   "metadata": {},
   "source": [
    "**İki Boyutlu Slice İslemleri**"
   ]
  },
  {
   "cell_type": "code",
   "execution_count": 9,
   "id": "e691e794-0e90-43a1-a83c-196e335809f9",
   "metadata": {},
   "outputs": [
    {
     "data": {
      "text/plain": [
       "array([[1, 8, 2, 0, 5],\n",
       "       [6, 2, 0, 7, 0],\n",
       "       [3, 6, 8, 1, 0],\n",
       "       [8, 6, 4, 6, 0],\n",
       "       [4, 6, 8, 2, 5]])"
      ]
     },
     "execution_count": 9,
     "metadata": {},
     "output_type": "execute_result"
    }
   ],
   "source": [
    "m = np.random.randint(10, size =(5,5))\n",
    "m"
   ]
  },
  {
   "cell_type": "code",
   "execution_count": 10,
   "id": "44f65981-f2f2-4b69-ad92-601b8ad5c4bd",
   "metadata": {},
   "outputs": [
    {
     "data": {
      "text/plain": [
       "array([1, 6, 3, 8, 4])"
      ]
     },
     "execution_count": 10,
     "metadata": {},
     "output_type": "execute_result"
    }
   ],
   "source": [
    "m[:,0]"
   ]
  },
  {
   "cell_type": "code",
   "execution_count": 12,
   "id": "75db8280-a3d5-47dc-8085-2ecb2b79cecc",
   "metadata": {},
   "outputs": [
    {
     "data": {
      "text/plain": [
       "array([5, 0, 0, 0, 5])"
      ]
     },
     "execution_count": 12,
     "metadata": {},
     "output_type": "execute_result"
    }
   ],
   "source": [
    "m[:,4]"
   ]
  },
  {
   "cell_type": "code",
   "execution_count": 13,
   "id": "d2c53372-e004-4817-b2c7-417fbcee278b",
   "metadata": {},
   "outputs": [
    {
     "data": {
      "text/plain": [
       "array([1, 8, 2, 0, 5])"
      ]
     },
     "execution_count": 13,
     "metadata": {},
     "output_type": "execute_result"
    }
   ],
   "source": [
    "m[0,:]"
   ]
  },
  {
   "cell_type": "code",
   "execution_count": 14,
   "id": "b52c0e24-1032-4ac6-9bce-693fea621ce7",
   "metadata": {},
   "outputs": [
    {
     "data": {
      "text/plain": [
       "array([[2, 0],\n",
       "       [0, 7]])"
      ]
     },
     "execution_count": 14,
     "metadata": {},
     "output_type": "execute_result"
    }
   ],
   "source": [
    "m[0:2 , 2:4]"
   ]
  },
  {
   "cell_type": "code",
   "execution_count": 15,
   "id": "4e8e540f-60a4-4b23-8ce1-a4a29773a5fe",
   "metadata": {},
   "outputs": [
    {
     "data": {
      "text/plain": [
       "array([[1, 8],\n",
       "       [6, 2],\n",
       "       [3, 6],\n",
       "       [8, 6],\n",
       "       [4, 6]])"
      ]
     },
     "execution_count": 15,
     "metadata": {},
     "output_type": "execute_result"
    }
   ],
   "source": [
    "m[:, 0:2]"
   ]
  },
  {
   "cell_type": "markdown",
   "id": "50d49aaa-93cf-4d79-bf6e-85f6611bcde6",
   "metadata": {},
   "source": [
    "**Alt Küme Üzerinde İşlem Yapmak**"
   ]
  },
  {
   "cell_type": "code",
   "execution_count": 17,
   "id": "6bb07dc2-cac2-4861-84a6-9613451184d9",
   "metadata": {},
   "outputs": [
    {
     "data": {
      "text/plain": [
       "array([[1, 8, 5, 1, 2],\n",
       "       [1, 8, 6, 7, 8],\n",
       "       [7, 0, 6, 3, 1],\n",
       "       [7, 5, 4, 0, 5],\n",
       "       [3, 0, 5, 6, 8]])"
      ]
     },
     "execution_count": 17,
     "metadata": {},
     "output_type": "execute_result"
    }
   ],
   "source": [
    "x = np.random.randint(10, size=(5,5))\n",
    "x"
   ]
  },
  {
   "cell_type": "code",
   "execution_count": 18,
   "id": "2dc0616e-a280-4cf6-ae6d-155b9c7cfbfd",
   "metadata": {},
   "outputs": [
    {
     "data": {
      "text/plain": [
       "array([[1, 8],\n",
       "       [1, 8],\n",
       "       [7, 0]])"
      ]
     },
     "execution_count": 18,
     "metadata": {},
     "output_type": "execute_result"
    }
   ],
   "source": [
    "alt_x = x[0:3 , 0:2]\n",
    "alt_x"
   ]
  },
  {
   "cell_type": "code",
   "execution_count": 21,
   "id": "3f504752-ef4f-4317-a040-610734a80719",
   "metadata": {},
   "outputs": [
    {
     "data": {
      "text/plain": [
       "array([[99999,     8],\n",
       "       [    1,   400],\n",
       "       [    7,   400]])"
      ]
     },
     "execution_count": 21,
     "metadata": {},
     "output_type": "execute_result"
    }
   ],
   "source": [
    "alt_x[0,0] = 99999\n",
    "alt_x[2,1] = 400\n",
    "alt_x"
   ]
  },
  {
   "cell_type": "code",
   "execution_count": 22,
   "id": "5aa68ca6-7e5c-4de4-8a2a-0d2f953123c3",
   "metadata": {},
   "outputs": [
    {
     "data": {
      "text/plain": [
       "array([[99999,     8,     5,     1,     2],\n",
       "       [    1,   400,     6,     7,     8],\n",
       "       [    7,   400,     6,     3,     1],\n",
       "       [    7,     5,     4,     0,     5],\n",
       "       [    3,     0,     5,     6,     8]])"
      ]
     },
     "execution_count": 22,
     "metadata": {},
     "output_type": "execute_result"
    }
   ],
   "source": [
    "x"
   ]
  },
  {
   "cell_type": "code",
   "execution_count": 23,
   "id": "5e62c203-7e75-4716-9c33-f0b7b60b0876",
   "metadata": {},
   "outputs": [
    {
     "data": {
      "text/plain": [
       "array([[6, 6, 9, 8, 1],\n",
       "       [0, 1, 0, 5, 4],\n",
       "       [8, 8, 3, 1, 1],\n",
       "       [7, 7, 1, 3, 3],\n",
       "       [5, 5, 1, 1, 2]])"
      ]
     },
     "execution_count": 23,
     "metadata": {},
     "output_type": "execute_result"
    }
   ],
   "source": [
    "e = np.random.randint(10, size=(5,5))\n",
    "e"
   ]
  },
  {
   "cell_type": "code",
   "execution_count": 24,
   "id": "54578009-2389-45a9-8549-3566f4675d85",
   "metadata": {},
   "outputs": [
    {
     "data": {
      "text/plain": [
       "array([[6, 6],\n",
       "       [0, 1],\n",
       "       [8, 8]])"
      ]
     },
     "execution_count": 24,
     "metadata": {},
     "output_type": "execute_result"
    }
   ],
   "source": [
    "alt_e = e[0:3,0:2].copy()\n",
    "alt_e"
   ]
  },
  {
   "cell_type": "code",
   "execution_count": 26,
   "id": "cece0b5b-a0b3-4860-ae3e-e889121df38d",
   "metadata": {},
   "outputs": [
    {
     "data": {
      "text/plain": [
       "array([[9999,    6],\n",
       "       [   0,    1],\n",
       "       [   8,    8]])"
      ]
     },
     "execution_count": 26,
     "metadata": {},
     "output_type": "execute_result"
    }
   ],
   "source": [
    "alt_e[0,0] = 9999\n",
    "alt_e"
   ]
  },
  {
   "cell_type": "code",
   "execution_count": 27,
   "id": "0a1848b4-45d0-416d-983b-31ea17e481dd",
   "metadata": {},
   "outputs": [
    {
     "data": {
      "text/plain": [
       "array([[6, 6, 9, 8, 1],\n",
       "       [0, 1, 0, 5, 4],\n",
       "       [8, 8, 3, 1, 1],\n",
       "       [7, 7, 1, 3, 3],\n",
       "       [5, 5, 1, 1, 2]])"
      ]
     },
     "execution_count": 27,
     "metadata": {},
     "output_type": "execute_result"
    }
   ],
   "source": [
    "e"
   ]
  },
  {
   "cell_type": "code",
   "execution_count": null,
   "id": "8bb4357c-a3a2-457d-9626-fdcb4845b5a8",
   "metadata": {},
   "outputs": [],
   "source": []
  }
 ],
 "metadata": {
  "kernelspec": {
   "display_name": "Python 3",
   "language": "python",
   "name": "python3"
  },
  "language_info": {
   "codemirror_mode": {
    "name": "ipython",
    "version": 3
   },
   "file_extension": ".py",
   "mimetype": "text/x-python",
   "name": "python",
   "nbconvert_exporter": "python",
   "pygments_lexer": "ipython3",
   "version": "3.8.8"
  }
 },
 "nbformat": 4,
 "nbformat_minor": 5
}
