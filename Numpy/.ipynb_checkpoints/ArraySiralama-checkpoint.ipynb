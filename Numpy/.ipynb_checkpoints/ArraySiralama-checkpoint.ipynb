{
 "cells": [
  {
   "cell_type": "markdown",
   "id": "6ef086b0-17f3-4aa3-8c23-fa5c05dae164",
   "metadata": {},
   "source": [
    "**Array Sıralama**"
   ]
  },
  {
   "cell_type": "code",
   "execution_count": 1,
   "id": "2d168423-eaf5-494c-8236-712a646475ac",
   "metadata": {},
   "outputs": [],
   "source": [
    "import numpy as np"
   ]
  },
  {
   "cell_type": "code",
   "execution_count": 5,
   "id": "0a8e0c8a-05e4-4fd8-be11-df7a32da89bf",
   "metadata": {},
   "outputs": [],
   "source": [
    "v = np.array([2,9,4,1])"
   ]
  },
  {
   "cell_type": "code",
   "execution_count": 6,
   "id": "f3191fe9-cdca-4423-a94e-1e11bf1479cf",
   "metadata": {},
   "outputs": [
    {
     "data": {
      "text/plain": [
       "array([2, 9, 4, 1])"
      ]
     },
     "execution_count": 6,
     "metadata": {},
     "output_type": "execute_result"
    }
   ],
   "source": [
    "v"
   ]
  },
  {
   "cell_type": "code",
   "execution_count": 7,
   "id": "9096c599-a652-4a7b-8e44-1bf0f40cc1d1",
   "metadata": {},
   "outputs": [
    {
     "data": {
      "text/plain": [
       "array([1, 2, 4, 9])"
      ]
     },
     "execution_count": 7,
     "metadata": {},
     "output_type": "execute_result"
    }
   ],
   "source": [
    "np.sort(v)"
   ]
  },
  {
   "cell_type": "code",
   "execution_count": 8,
   "id": "b0b8e1a6-2fb1-4c35-b05e-1dda2e760c77",
   "metadata": {},
   "outputs": [
    {
     "data": {
      "text/plain": [
       "array([2, 9, 4, 1])"
      ]
     },
     "execution_count": 8,
     "metadata": {},
     "output_type": "execute_result"
    }
   ],
   "source": [
    "v"
   ]
  },
  {
   "cell_type": "code",
   "execution_count": 9,
   "id": "c777980e-bfeb-499b-817f-c9d7a49ef777",
   "metadata": {},
   "outputs": [],
   "source": [
    "v.sort()"
   ]
  },
  {
   "cell_type": "code",
   "execution_count": 10,
   "id": "4c19ffc8-99fb-4d3b-9cf6-a160c85240ae",
   "metadata": {},
   "outputs": [
    {
     "data": {
      "text/plain": [
       "array([1, 2, 4, 9])"
      ]
     },
     "execution_count": 10,
     "metadata": {},
     "output_type": "execute_result"
    }
   ],
   "source": [
    "v"
   ]
  },
  {
   "cell_type": "markdown",
   "id": "317a5bce-fbab-4cc1-85af-48eae1f1f029",
   "metadata": {},
   "source": [
    "**İki Boyutlu Sıralama**"
   ]
  },
  {
   "cell_type": "code",
   "execution_count": 12,
   "id": "eae6daff-01aa-45c2-beab-9861b6b5a75b",
   "metadata": {},
   "outputs": [],
   "source": [
    "m = np.random.normal(20,5,(3,3))"
   ]
  },
  {
   "cell_type": "code",
   "execution_count": 13,
   "id": "1086b51b-7675-4f9b-a8c7-8fcbef7fabea",
   "metadata": {},
   "outputs": [
    {
     "data": {
      "text/plain": [
       "array([[ 6.08213496, 13.83396168, 18.39530504],\n",
       "       [13.96565678, 22.92879408, 23.61818121],\n",
       "       [ 9.71066626, 16.64667169, 18.46102316]])"
      ]
     },
     "execution_count": 13,
     "metadata": {},
     "output_type": "execute_result"
    }
   ],
   "source": [
    "np.sort(m, axis = 1)"
   ]
  },
  {
   "cell_type": "code",
   "execution_count": 14,
   "id": "16ec491d-88d6-4a92-8786-c7aeeef9cb83",
   "metadata": {},
   "outputs": [
    {
     "data": {
      "text/plain": [
       "array([[ 6.08213496,  9.71066626, 16.64667169],\n",
       "       [18.46102316, 13.83396168, 18.39530504],\n",
       "       [22.92879408, 13.96565678, 23.61818121]])"
      ]
     },
     "execution_count": 14,
     "metadata": {},
     "output_type": "execute_result"
    }
   ],
   "source": [
    "np.sort(m, axis = 0)"
   ]
  },
  {
   "cell_type": "code",
   "execution_count": null,
   "id": "ee9d6f22-46ca-4bc4-adf8-72e770cd23cc",
   "metadata": {},
   "outputs": [],
   "source": []
  }
 ],
 "metadata": {
  "kernelspec": {
   "display_name": "Python 3",
   "language": "python",
   "name": "python3"
  },
  "language_info": {
   "codemirror_mode": {
    "name": "ipython",
    "version": 3
   },
   "file_extension": ".py",
   "mimetype": "text/x-python",
   "name": "python",
   "nbconvert_exporter": "python",
   "pygments_lexer": "ipython3",
   "version": "3.8.8"
  }
 },
 "nbformat": 4,
 "nbformat_minor": 5
}
