{
 "cells": [
  {
   "cell_type": "markdown",
   "id": "0b1de9b9-290c-4352-84e3-6d1b0b06f58b",
   "metadata": {},
   "source": [
    "## Çoklu Doğrusal Regresyon"
   ]
  },
  {
   "cell_type": "markdown",
   "id": "a616d6b3-a2ef-489e-845b-e2befb2c4286",
   "metadata": {},
   "source": [
    "Temel amaç, bağımlı ve bağımsız değişkenler arasındaki ilişkiyi ifade eden doğrusal fonksiyonu bulmaktır."
   ]
  },
  {
   "cell_type": "markdown",
   "id": "d43ec360-d602-494b-98b2-3aedebf17a23",
   "metadata": {},
   "source": [
    "#### Doğrusal Regresyon Varsayımları"
   ]
  },
  {
   "cell_type": "markdown",
   "id": "05996d58-0f84-47c0-8515-5146b1c72ea7",
   "metadata": {},
   "source": [
    "Hatalar normal dağılır.\n",
    "\n",
    "Hatalar birbirinden bağımsızdır ve aralarında otokorelasyon yoktur.\n",
    "\n",
    "Her bir gözlem için hata terimleri varyansları sabittir.\n",
    "\n",
    "Değişkenler ile hata terimi arasında ilişiki yoktur.\n",
    "\n",
    "Bağımsız değişkenler arasında çoklu doğrusal ilişki problemli yoktur."
   ]
  },
  {
   "cell_type": "markdown",
   "id": "3298681f-7887-4db5-9d77-1b38461f7259",
   "metadata": {},
   "source": [
    "#### Regresyon Modellerinin Avantaj ve Dezavantajları"
   ]
  },
  {
   "cell_type": "markdown",
   "id": "691b3c9d-a879-4795-8220-0686ebd5fed6",
   "metadata": {},
   "source": [
    "İyi anlaşılırsa diğer tüm ML ve DL konuları çok rahat kavranır.\n",
    "\n",
    "Doğrusallık nedensellik yorumları yapılabilmesini sağlar, bu durum aksiyoner ve stratejik modelleme imkanı verir.\n",
    "\n",
    "Değişkenlerin etki düzeyleri ve anlamlılıkları değerlendirilebilir.\n",
    "\n",
    "Bağımlı değişkendeki değişkenliğin açıklanma başarısı ölçülebilir.\n",
    "\n",
    "Model anlamlılığı değerlendirilebilir.\n",
    "\n",
    "**Varsayımları vardır.**\n",
    "\n",
    "**Aykırı gözlemlere duyarlıdır.**"
   ]
  },
  {
   "cell_type": "code",
   "execution_count": 1,
   "id": "3b534f42-571e-43f4-8027-94f0c3cbbcab",
   "metadata": {},
   "outputs": [
    {
     "data": {
      "text/html": [
       "<div>\n",
       "<style scoped>\n",
       "    .dataframe tbody tr th:only-of-type {\n",
       "        vertical-align: middle;\n",
       "    }\n",
       "\n",
       "    .dataframe tbody tr th {\n",
       "        vertical-align: top;\n",
       "    }\n",
       "\n",
       "    .dataframe thead th {\n",
       "        text-align: right;\n",
       "    }\n",
       "</style>\n",
       "<table border=\"1\" class=\"dataframe\">\n",
       "  <thead>\n",
       "    <tr style=\"text-align: right;\">\n",
       "      <th></th>\n",
       "      <th>TV</th>\n",
       "      <th>radio</th>\n",
       "      <th>newspaper</th>\n",
       "      <th>sales</th>\n",
       "    </tr>\n",
       "  </thead>\n",
       "  <tbody>\n",
       "    <tr>\n",
       "      <th>0</th>\n",
       "      <td>230.1</td>\n",
       "      <td>37.8</td>\n",
       "      <td>69.2</td>\n",
       "      <td>22.1</td>\n",
       "    </tr>\n",
       "    <tr>\n",
       "      <th>1</th>\n",
       "      <td>44.5</td>\n",
       "      <td>39.3</td>\n",
       "      <td>45.1</td>\n",
       "      <td>10.4</td>\n",
       "    </tr>\n",
       "    <tr>\n",
       "      <th>2</th>\n",
       "      <td>17.2</td>\n",
       "      <td>45.9</td>\n",
       "      <td>69.3</td>\n",
       "      <td>9.3</td>\n",
       "    </tr>\n",
       "    <tr>\n",
       "      <th>3</th>\n",
       "      <td>151.5</td>\n",
       "      <td>41.3</td>\n",
       "      <td>58.5</td>\n",
       "      <td>18.5</td>\n",
       "    </tr>\n",
       "    <tr>\n",
       "      <th>4</th>\n",
       "      <td>180.8</td>\n",
       "      <td>10.8</td>\n",
       "      <td>58.4</td>\n",
       "      <td>12.9</td>\n",
       "    </tr>\n",
       "  </tbody>\n",
       "</table>\n",
       "</div>"
      ],
      "text/plain": [
       "      TV  radio  newspaper  sales\n",
       "0  230.1   37.8       69.2   22.1\n",
       "1   44.5   39.3       45.1   10.4\n",
       "2   17.2   45.9       69.3    9.3\n",
       "3  151.5   41.3       58.5   18.5\n",
       "4  180.8   10.8       58.4   12.9"
      ]
     },
     "execution_count": 1,
     "metadata": {},
     "output_type": "execute_result"
    }
   ],
   "source": [
    "import pandas as pd\n",
    "ad = pd.read_csv(\"Advertising.csv\", usecols=[1,2,3,4])\n",
    "df = ad.copy()\n",
    "df.head()"
   ]
  },
  {
   "cell_type": "code",
   "execution_count": 4,
   "id": "d4e06431-ea9b-47f5-852a-0934ee808522",
   "metadata": {},
   "outputs": [],
   "source": [
    "from sklearn.model_selection import train_test_split, cross_val_score, cross_val_predict\n",
    "\n",
    "X = df.drop(\"sales\", axis=1)\n",
    "y = df[\"sales\"]"
   ]
  },
  {
   "cell_type": "code",
   "execution_count": 12,
   "id": "1c7a7608-6341-4e3f-b5ae-a0edfea4eeb0",
   "metadata": {},
   "outputs": [],
   "source": [
    "X_train, X_test, y_train, y_test = train_test_split(X,y,test_size=0.20, random_state=42)"
   ]
  },
  {
   "cell_type": "code",
   "execution_count": 13,
   "id": "ae3c5043-f7c4-4359-a20e-00b0b13bc46e",
   "metadata": {},
   "outputs": [
    {
     "data": {
      "text/plain": [
       "(160, 3)"
      ]
     },
     "execution_count": 13,
     "metadata": {},
     "output_type": "execute_result"
    }
   ],
   "source": [
    "X_train.shape"
   ]
  },
  {
   "cell_type": "code",
   "execution_count": 14,
   "id": "c18d3a2c-467a-4d7a-8837-5a912d72f621",
   "metadata": {},
   "outputs": [
    {
     "data": {
      "text/plain": [
       "(160,)"
      ]
     },
     "execution_count": 14,
     "metadata": {},
     "output_type": "execute_result"
    }
   ],
   "source": [
    "y_train.shape"
   ]
  },
  {
   "cell_type": "code",
   "execution_count": 15,
   "id": "fa55606a-0dbf-4a3e-9b20-6a78f44af748",
   "metadata": {},
   "outputs": [
    {
     "data": {
      "text/plain": [
       "(40, 3)"
      ]
     },
     "execution_count": 15,
     "metadata": {},
     "output_type": "execute_result"
    }
   ],
   "source": [
    "X_test.shape"
   ]
  },
  {
   "cell_type": "code",
   "execution_count": 16,
   "id": "137b41cb-1828-471a-8092-c3283301a9a2",
   "metadata": {},
   "outputs": [
    {
     "data": {
      "text/plain": [
       "(40,)"
      ]
     },
     "execution_count": 16,
     "metadata": {},
     "output_type": "execute_result"
    }
   ],
   "source": [
    "y_test.shape"
   ]
  },
  {
   "cell_type": "code",
   "execution_count": 17,
   "id": "6f63a792-dd43-4eb8-82fb-0eac9fb26200",
   "metadata": {},
   "outputs": [
    {
     "data": {
      "text/plain": [
       "(200, 4)"
      ]
     },
     "execution_count": 17,
     "metadata": {},
     "output_type": "execute_result"
    }
   ],
   "source": [
    "training = df.copy()\n",
    "training.shape"
   ]
  },
  {
   "cell_type": "markdown",
   "id": "6d147ee3-8458-45e5-8f30-217531a65243",
   "metadata": {},
   "source": [
    "#### Statsmodels"
   ]
  },
  {
   "cell_type": "code",
   "execution_count": 24,
   "id": "50ffd3a7-f708-499a-94a1-f22c6ef830b4",
   "metadata": {},
   "outputs": [],
   "source": [
    "import statsmodels.api as sm\n",
    "lm = sm.OLS(y_train, X_train)"
   ]
  },
  {
   "cell_type": "code",
   "execution_count": 25,
   "id": "4d48e242-b0af-46c2-8ce1-041887469da2",
   "metadata": {},
   "outputs": [
    {
     "data": {
      "text/html": [
       "<table class=\"simpletable\">\n",
       "<caption>OLS Regression Results</caption>\n",
       "<tr>\n",
       "  <th>Dep. Variable:</th>          <td>sales</td>      <th>  R-squared (uncentered):</th>      <td>   0.982</td> \n",
       "</tr>\n",
       "<tr>\n",
       "  <th>Model:</th>                   <td>OLS</td>       <th>  Adj. R-squared (uncentered):</th> <td>   0.982</td> \n",
       "</tr>\n",
       "<tr>\n",
       "  <th>Method:</th>             <td>Least Squares</td>  <th>  F-statistic:       </th>          <td>   2935.</td> \n",
       "</tr>\n",
       "<tr>\n",
       "  <th>Date:</th>             <td>Mon, 18 Oct 2021</td> <th>  Prob (F-statistic):</th>          <td>1.28e-137</td>\n",
       "</tr>\n",
       "<tr>\n",
       "  <th>Time:</th>                 <td>12:26:53</td>     <th>  Log-Likelihood:    </th>          <td> -336.65</td> \n",
       "</tr>\n",
       "<tr>\n",
       "  <th>No. Observations:</th>      <td>   160</td>      <th>  AIC:               </th>          <td>   679.3</td> \n",
       "</tr>\n",
       "<tr>\n",
       "  <th>Df Residuals:</th>          <td>   157</td>      <th>  BIC:               </th>          <td>   688.5</td> \n",
       "</tr>\n",
       "<tr>\n",
       "  <th>Df Model:</th>              <td>     3</td>      <th>                     </th>              <td> </td>    \n",
       "</tr>\n",
       "<tr>\n",
       "  <th>Covariance Type:</th>      <td>nonrobust</td>    <th>                     </th>              <td> </td>    \n",
       "</tr>\n",
       "</table>\n",
       "<table class=\"simpletable\">\n",
       "<tr>\n",
       "      <td></td>         <th>coef</th>     <th>std err</th>      <th>t</th>      <th>P>|t|</th>  <th>[0.025</th>    <th>0.975]</th>  \n",
       "</tr>\n",
       "<tr>\n",
       "  <th>TV</th>        <td>    0.0531</td> <td>    0.001</td> <td>   36.467</td> <td> 0.000</td> <td>    0.050</td> <td>    0.056</td>\n",
       "</tr>\n",
       "<tr>\n",
       "  <th>radio</th>     <td>    0.2188</td> <td>    0.011</td> <td>   20.138</td> <td> 0.000</td> <td>    0.197</td> <td>    0.240</td>\n",
       "</tr>\n",
       "<tr>\n",
       "  <th>newspaper</th> <td>    0.0239</td> <td>    0.008</td> <td>    3.011</td> <td> 0.003</td> <td>    0.008</td> <td>    0.040</td>\n",
       "</tr>\n",
       "</table>\n",
       "<table class=\"simpletable\">\n",
       "<tr>\n",
       "  <th>Omnibus:</th>       <td>11.405</td> <th>  Durbin-Watson:     </th> <td>   1.895</td>\n",
       "</tr>\n",
       "<tr>\n",
       "  <th>Prob(Omnibus):</th> <td> 0.003</td> <th>  Jarque-Bera (JB):  </th> <td>  15.574</td>\n",
       "</tr>\n",
       "<tr>\n",
       "  <th>Skew:</th>          <td>-0.432</td> <th>  Prob(JB):          </th> <td>0.000415</td>\n",
       "</tr>\n",
       "<tr>\n",
       "  <th>Kurtosis:</th>      <td> 4.261</td> <th>  Cond. No.          </th> <td>    13.5</td>\n",
       "</tr>\n",
       "</table><br/><br/>Notes:<br/>[1] R² is computed without centering (uncentered) since the model does not contain a constant.<br/>[2] Standard Errors assume that the covariance matrix of the errors is correctly specified."
      ],
      "text/plain": [
       "<class 'statsmodels.iolib.summary.Summary'>\n",
       "\"\"\"\n",
       "                                 OLS Regression Results                                \n",
       "=======================================================================================\n",
       "Dep. Variable:                  sales   R-squared (uncentered):                   0.982\n",
       "Model:                            OLS   Adj. R-squared (uncentered):              0.982\n",
       "Method:                 Least Squares   F-statistic:                              2935.\n",
       "Date:                Mon, 18 Oct 2021   Prob (F-statistic):                   1.28e-137\n",
       "Time:                        12:26:53   Log-Likelihood:                         -336.65\n",
       "No. Observations:                 160   AIC:                                      679.3\n",
       "Df Residuals:                     157   BIC:                                      688.5\n",
       "Df Model:                           3                                                  \n",
       "Covariance Type:            nonrobust                                                  \n",
       "==============================================================================\n",
       "                 coef    std err          t      P>|t|      [0.025      0.975]\n",
       "------------------------------------------------------------------------------\n",
       "TV             0.0531      0.001     36.467      0.000       0.050       0.056\n",
       "radio          0.2188      0.011     20.138      0.000       0.197       0.240\n",
       "newspaper      0.0239      0.008      3.011      0.003       0.008       0.040\n",
       "==============================================================================\n",
       "Omnibus:                       11.405   Durbin-Watson:                   1.895\n",
       "Prob(Omnibus):                  0.003   Jarque-Bera (JB):               15.574\n",
       "Skew:                          -0.432   Prob(JB):                     0.000415\n",
       "Kurtosis:                       4.261   Cond. No.                         13.5\n",
       "==============================================================================\n",
       "\n",
       "Notes:\n",
       "[1] R² is computed without centering (uncentered) since the model does not contain a constant.\n",
       "[2] Standard Errors assume that the covariance matrix of the errors is correctly specified.\n",
       "\"\"\""
      ]
     },
     "execution_count": 25,
     "metadata": {},
     "output_type": "execute_result"
    }
   ],
   "source": [
    "model = lm.fit()\n",
    "model.summary()"
   ]
  },
  {
   "cell_type": "code",
   "execution_count": 26,
   "id": "2f9b3f08-83f1-4726-a634-52a27fb6b9fa",
   "metadata": {},
   "outputs": [
    {
     "data": {
      "text/html": [
       "<table class=\"simpletable\">\n",
       "<tr>\n",
       "      <td></td>         <th>coef</th>     <th>std err</th>      <th>t</th>      <th>P>|t|</th>  <th>[0.025</th>    <th>0.975]</th>  \n",
       "</tr>\n",
       "<tr>\n",
       "  <th>TV</th>        <td>    0.0531</td> <td>    0.001</td> <td>   36.467</td> <td> 0.000</td> <td>    0.050</td> <td>    0.056</td>\n",
       "</tr>\n",
       "<tr>\n",
       "  <th>radio</th>     <td>    0.2188</td> <td>    0.011</td> <td>   20.138</td> <td> 0.000</td> <td>    0.197</td> <td>    0.240</td>\n",
       "</tr>\n",
       "<tr>\n",
       "  <th>newspaper</th> <td>    0.0239</td> <td>    0.008</td> <td>    3.011</td> <td> 0.003</td> <td>    0.008</td> <td>    0.040</td>\n",
       "</tr>\n",
       "</table>"
      ],
      "text/plain": [
       "<class 'statsmodels.iolib.table.SimpleTable'>"
      ]
     },
     "execution_count": 26,
     "metadata": {},
     "output_type": "execute_result"
    }
   ],
   "source": [
    "model.summary().tables[1]"
   ]
  },
  {
   "cell_type": "markdown",
   "id": "a4df4ca0-7002-4558-8000-041714a5ce60",
   "metadata": {},
   "source": [
    "#### Scikit-Learn model"
   ]
  },
  {
   "cell_type": "code",
   "execution_count": 27,
   "id": "fec91c9d-eb5f-4dbd-aa4a-371c1853ba1c",
   "metadata": {},
   "outputs": [],
   "source": [
    "from sklearn.linear_model import LinearRegression"
   ]
  },
  {
   "cell_type": "code",
   "execution_count": 29,
   "id": "80a396d7-a93f-4464-90c2-b51f19eb7762",
   "metadata": {},
   "outputs": [],
   "source": [
    "lm = LinearRegression()\n",
    "model = lm.fit(X_train , y_train)"
   ]
  },
  {
   "cell_type": "code",
   "execution_count": 30,
   "id": "d7bc5e62-c261-4844-be75-76ec59b85623",
   "metadata": {},
   "outputs": [
    {
     "data": {
      "text/plain": [
       "2.979067338122629"
      ]
     },
     "execution_count": 30,
     "metadata": {},
     "output_type": "execute_result"
    }
   ],
   "source": [
    "model.intercept_"
   ]
  },
  {
   "cell_type": "code",
   "execution_count": 31,
   "id": "7448e94d-8b90-4631-8bf4-e3228e078afb",
   "metadata": {},
   "outputs": [
    {
     "data": {
      "text/plain": [
       "array([0.04472952, 0.18919505, 0.00276111])"
      ]
     },
     "execution_count": 31,
     "metadata": {},
     "output_type": "execute_result"
    }
   ],
   "source": [
    "model.coef_"
   ]
  },
  {
   "cell_type": "markdown",
   "id": "e6df287f-a635-47f8-b037-9cb715c7f6ec",
   "metadata": {},
   "source": [
    "## Çoklu Doğrusal Regresyon Tahmin"
   ]
  },
  {
   "cell_type": "markdown",
   "id": "598727b2-3ee0-40f2-b97a-35299be57625",
   "metadata": {},
   "source": [
    "#### Tahmin"
   ]
  },
  {
   "cell_type": "markdown",
   "id": "3b037608-c3f5-49b7-b697-31da5ac5c6a8",
   "metadata": {},
   "source": [
    "Model Denklemi: \n",
    "    \n",
    "Sales = 2.97 + TV * 0.04 + Radio * 0.18 + newspaper * 0.002\n",
    "\n",
    "Örneğin 30 birim TV harcaması, 10 birim radio harcaması, 40 birim de gazete harcaması olduğunda satışların tahmini değeri ne olur? "
   ]
  },
  {
   "cell_type": "code",
   "execution_count": 32,
   "id": "b7aed2e2-5d9f-4d9d-9755-675dd6012911",
   "metadata": {},
   "outputs": [],
   "source": [
    "yeni_veri = [[30],[10],[40]]\n",
    "yeni_veri = pd.DataFrame(yeni_veri).T"
   ]
  },
  {
   "cell_type": "code",
   "execution_count": 35,
   "id": "37e8d16b-fef2-471c-91a2-041bb56cdb68",
   "metadata": {},
   "outputs": [
    {
     "data": {
      "text/plain": [
       "array([6.32334798])"
      ]
     },
     "execution_count": 35,
     "metadata": {},
     "output_type": "execute_result"
    }
   ],
   "source": [
    "model.predict(yeni_veri)"
   ]
  },
  {
   "cell_type": "code",
   "execution_count": 36,
   "id": "9aab0a7a-f0a0-44ef-ba50-fdf8931ae287",
   "metadata": {},
   "outputs": [],
   "source": [
    "import numpy as np"
   ]
  },
  {
   "cell_type": "code",
   "execution_count": 37,
   "id": "78c476d0-8184-4cf4-8179-6a3474062ff1",
   "metadata": {},
   "outputs": [],
   "source": [
    "from sklearn.metrics import mean_squared_error, r2_score"
   ]
  },
  {
   "cell_type": "code",
   "execution_count": 38,
   "id": "11bb44fb-871b-4d1b-b7e4-fd813022fcbf",
   "metadata": {},
   "outputs": [],
   "source": [
    "rmse = np.sqrt(mean_squared_error(y_train, model.predict(X_train)))"
   ]
  },
  {
   "cell_type": "code",
   "execution_count": 40,
   "id": "0ab5991d-ea85-45b5-9a57-4fac42979035",
   "metadata": {},
   "outputs": [
    {
     "data": {
      "text/plain": [
       "1.644727765644337"
      ]
     },
     "execution_count": 40,
     "metadata": {},
     "output_type": "execute_result"
    }
   ],
   "source": [
    "rmse # eğitim hatası"
   ]
  },
  {
   "cell_type": "code",
   "execution_count": 41,
   "id": "32b1d067-9997-4fc5-8646-765d7b6e9bcd",
   "metadata": {},
   "outputs": [
    {
     "data": {
      "text/plain": [
       "1.7815996615334502"
      ]
     },
     "execution_count": 41,
     "metadata": {},
     "output_type": "execute_result"
    }
   ],
   "source": [
    "rmse = np.sqrt(mean_squared_error(y_test, model.predict(X_test)))\n",
    "rmse"
   ]
  },
  {
   "cell_type": "markdown",
   "id": "3c072cf3-7a24-424e-9826-ca48adc330fe",
   "metadata": {},
   "source": [
    "## Çoklu Doğrusal Regresyon Model Tuning / Model Doğrulama"
   ]
  },
  {
   "cell_type": "code",
   "execution_count": 42,
   "id": "71457bf8-56a2-4a09-ab59-5d91a131eb40",
   "metadata": {},
   "outputs": [
    {
     "data": {
      "text/html": [
       "<div>\n",
       "<style scoped>\n",
       "    .dataframe tbody tr th:only-of-type {\n",
       "        vertical-align: middle;\n",
       "    }\n",
       "\n",
       "    .dataframe tbody tr th {\n",
       "        vertical-align: top;\n",
       "    }\n",
       "\n",
       "    .dataframe thead th {\n",
       "        text-align: right;\n",
       "    }\n",
       "</style>\n",
       "<table border=\"1\" class=\"dataframe\">\n",
       "  <thead>\n",
       "    <tr style=\"text-align: right;\">\n",
       "      <th></th>\n",
       "      <th>TV</th>\n",
       "      <th>radio</th>\n",
       "      <th>newspaper</th>\n",
       "      <th>sales</th>\n",
       "    </tr>\n",
       "  </thead>\n",
       "  <tbody>\n",
       "    <tr>\n",
       "      <th>0</th>\n",
       "      <td>230.1</td>\n",
       "      <td>37.8</td>\n",
       "      <td>69.2</td>\n",
       "      <td>22.1</td>\n",
       "    </tr>\n",
       "    <tr>\n",
       "      <th>1</th>\n",
       "      <td>44.5</td>\n",
       "      <td>39.3</td>\n",
       "      <td>45.1</td>\n",
       "      <td>10.4</td>\n",
       "    </tr>\n",
       "    <tr>\n",
       "      <th>2</th>\n",
       "      <td>17.2</td>\n",
       "      <td>45.9</td>\n",
       "      <td>69.3</td>\n",
       "      <td>9.3</td>\n",
       "    </tr>\n",
       "    <tr>\n",
       "      <th>3</th>\n",
       "      <td>151.5</td>\n",
       "      <td>41.3</td>\n",
       "      <td>58.5</td>\n",
       "      <td>18.5</td>\n",
       "    </tr>\n",
       "    <tr>\n",
       "      <th>4</th>\n",
       "      <td>180.8</td>\n",
       "      <td>10.8</td>\n",
       "      <td>58.4</td>\n",
       "      <td>12.9</td>\n",
       "    </tr>\n",
       "  </tbody>\n",
       "</table>\n",
       "</div>"
      ],
      "text/plain": [
       "      TV  radio  newspaper  sales\n",
       "0  230.1   37.8       69.2   22.1\n",
       "1   44.5   39.3       45.1   10.4\n",
       "2   17.2   45.9       69.3    9.3\n",
       "3  151.5   41.3       58.5   18.5\n",
       "4  180.8   10.8       58.4   12.9"
      ]
     },
     "execution_count": 42,
     "metadata": {},
     "output_type": "execute_result"
    }
   ],
   "source": [
    "df.head()"
   ]
  },
  {
   "cell_type": "code",
   "execution_count": 43,
   "id": "de6d489f-dd36-4bbd-a865-f2058849b278",
   "metadata": {},
   "outputs": [
    {
     "data": {
      "text/plain": [
       "1.644727765644337"
      ]
     },
     "execution_count": 43,
     "metadata": {},
     "output_type": "execute_result"
    }
   ],
   "source": [
    "np.sqrt(mean_squared_error(y_train, model.predict(X_train))) # trainler"
   ]
  },
  {
   "cell_type": "code",
   "execution_count": 54,
   "id": "5a86da55-50e2-46a3-bbd5-ed26364b7652",
   "metadata": {},
   "outputs": [
    {
     "data": {
      "text/plain": [
       "1.7815996615334502"
      ]
     },
     "execution_count": 54,
     "metadata": {},
     "output_type": "execute_result"
    }
   ],
   "source": [
    "np.sqrt(mean_squared_error(y_test, model.predict(X_test))) #testler"
   ]
  },
  {
   "cell_type": "code",
   "execution_count": 45,
   "id": "75a1ca80-3947-4597-aebc-31bc352b5fb2",
   "metadata": {},
   "outputs": [
    {
     "data": {
      "text/plain": [
       "0.8957008271017818"
      ]
     },
     "execution_count": 45,
     "metadata": {},
     "output_type": "execute_result"
    }
   ],
   "source": [
    "model.score(X_train, y_train)"
   ]
  },
  {
   "cell_type": "code",
   "execution_count": 48,
   "id": "683ecfd9-0f5d-4fd5-b7c7-f55e87968a6f",
   "metadata": {},
   "outputs": [
    {
     "data": {
      "text/plain": [
       "0.791354859691634"
      ]
     },
     "execution_count": 48,
     "metadata": {},
     "output_type": "execute_result"
    }
   ],
   "source": [
    "cross_val_score(model, X_train , y_train , cv=10, scoring=\"r2\").mean()"
   ]
  },
  {
   "cell_type": "code",
   "execution_count": 51,
   "id": "57947c07-2905-4e8b-99e7-0f9bfef1d394",
   "metadata": {},
   "outputs": [
    {
     "data": {
      "text/plain": [
       "array([5.57303426, 2.86235681, 2.06504684, 1.09186983, 1.66159795,\n",
       "       2.50694042, 2.92821679, 2.01207197, 7.2250041 , 1.66156243])"
      ]
     },
     "execution_count": 51,
     "metadata": {},
     "output_type": "execute_result"
    }
   ],
   "source": [
    "-cross_val_score(model,\n",
    "                 X_train,\n",
    "                 y_train,\n",
    "                 cv=10,\n",
    "                 scoring=\"neg_mean_squared_error\")"
   ]
  },
  {
   "cell_type": "code",
   "execution_count": 52,
   "id": "6654145e-eab7-4372-841e-aaf834055e1f",
   "metadata": {},
   "outputs": [
    {
     "data": {
      "text/plain": [
       "array([2.36072749, 1.69185011, 1.43702708, 1.04492575, 1.28902985,\n",
       "       1.58333206, 1.71120332, 1.41847523, 2.68793677, 1.28901607])"
      ]
     },
     "execution_count": 52,
     "metadata": {},
     "output_type": "execute_result"
    }
   ],
   "source": [
    "np.sqrt(-cross_val_score(model,\n",
    "                 X_train,\n",
    "                 y_train,\n",
    "                 cv=10,\n",
    "                 scoring=\"neg_mean_squared_error\"))"
   ]
  },
  {
   "cell_type": "code",
   "execution_count": 53,
   "id": "a9896628-1e47-47f0-9178-50942bb50cfd",
   "metadata": {},
   "outputs": [
    {
     "data": {
      "text/plain": [
       "1.6513523730313335"
      ]
     },
     "execution_count": 53,
     "metadata": {},
     "output_type": "execute_result"
    }
   ],
   "source": [
    "np.sqrt(-cross_val_score(model,\n",
    "                 X_train,\n",
    "                 y_train,\n",
    "                 cv=10,\n",
    "                 scoring=\"neg_mean_squared_error\")).mean()"
   ]
  },
  {
   "cell_type": "code",
   "execution_count": 55,
   "id": "9ad1876b-325e-438d-9d61-31b4b2aa7fa5",
   "metadata": {},
   "outputs": [
    {
     "data": {
      "text/plain": [
       "1.8462778823997095"
      ]
     },
     "execution_count": 55,
     "metadata": {},
     "output_type": "execute_result"
    }
   ],
   "source": [
    "np.sqrt(-cross_val_score(model,\n",
    "                 X_test,\n",
    "                 y_test,\n",
    "                 cv=10,\n",
    "                 scoring=\"neg_mean_squared_error\")).mean()"
   ]
  },
  {
   "cell_type": "markdown",
   "id": "f3915581-1ea3-48f3-9661-1ebc00185690",
   "metadata": {},
   "source": [
    "**Train hatası ile test hatası birbirinden farklıdır ve eğitim hatası test hatasının kötü bir tahmincisidir.**"
   ]
  },
  {
   "cell_type": "code",
   "execution_count": null,
   "id": "dce7a303-5354-42df-8c96-5f725fc85853",
   "metadata": {},
   "outputs": [],
   "source": []
  }
 ],
 "metadata": {
  "kernelspec": {
   "display_name": "Python 3",
   "language": "python",
   "name": "python3"
  },
  "language_info": {
   "codemirror_mode": {
    "name": "ipython",
    "version": 3
   },
   "file_extension": ".py",
   "mimetype": "text/x-python",
   "name": "python",
   "nbconvert_exporter": "python",
   "pygments_lexer": "ipython3",
   "version": "3.8.8"
  }
 },
 "nbformat": 4,
 "nbformat_minor": 5
}
