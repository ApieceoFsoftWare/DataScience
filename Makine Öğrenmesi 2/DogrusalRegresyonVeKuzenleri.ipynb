{
 "cells": [
  {
   "cell_type": "markdown",
   "id": "7171df60-fdb7-473f-886f-c7cf7b9cd098",
   "metadata": {},
   "source": [
    "## Doğrusal Regresyon ve Kuzenleri"
   ]
  },
  {
   "cell_type": "markdown",
   "id": "eb4c4d7f-30ad-4f28-80e3-4538d6159067",
   "metadata": {},
   "source": [
    "**Basit Doğrusal Regresyon**\n",
    "\n",
    "**Çoklu Doğrusal Regresyon**\n",
    "\n",
    "**Temel Bileşen Regresyonu**\n",
    "\n",
    "**Kısmı En Küçük Kareler Regresyonu**\n",
    "\n",
    "**Ridge Regresyonu**\n",
    "\n",
    "**Lasso Regresyon**\n",
    "\n",
    "**Elastic Net Regresyonu**"
   ]
  },
  {
   "cell_type": "markdown",
   "id": "2e4edf36-a8cc-41b3-8dd8-640a566906d5",
   "metadata": {},
   "source": [
    "**Her Model İçin**:                                                                                                                  \n",
    "-Model                                                                                                                                 \n",
    "-Tahmin                                                                                                                          \n",
    "-Model Optimizasyonu                                                                                                                    "
   ]
  },
  {
   "cell_type": "code",
   "execution_count": null,
   "id": "2e3c6f79-8fdf-4ca4-947f-81e2a1ca8393",
   "metadata": {},
   "outputs": [],
   "source": []
  }
 ],
 "metadata": {
  "kernelspec": {
   "display_name": "Python 3",
   "language": "python",
   "name": "python3"
  },
  "language_info": {
   "codemirror_mode": {
    "name": "ipython",
    "version": 3
   },
   "file_extension": ".py",
   "mimetype": "text/x-python",
   "name": "python",
   "nbconvert_exporter": "python",
   "pygments_lexer": "ipython3",
   "version": "3.8.8"
  }
 },
 "nbformat": 4,
 "nbformat_minor": 5
}
