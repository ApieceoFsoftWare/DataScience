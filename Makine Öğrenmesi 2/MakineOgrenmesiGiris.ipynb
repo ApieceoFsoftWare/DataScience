{
 "cells": [
  {
   "cell_type": "markdown",
   "id": "06d2d251-4b58-46b8-85f7-d7324706e6c0",
   "metadata": {},
   "source": [
    "## Makine Öğrenmesi Nedir?"
   ]
  },
  {
   "cell_type": "markdown",
   "id": "5f34d952-9215-46ef-8f52-92d364eb49f7",
   "metadata": {},
   "source": [
    "Bilgisayarların insanlara benzer şekilde öğrenmesini sağlamak maksadı ile çeşitli algoritma ve tekniklerin geliştirilmesi için çalışılan\n",
    "bilimsel çalışma alanıdır."
   ]
  },
  {
   "cell_type": "markdown",
   "id": "6e6fb59b-7564-4dbd-91ff-064a52ef58d6",
   "metadata": {},
   "source": [
    "#### Kavramlar\n",
    "\n",
    "**Bağımlı Değişken & Bağımsız Değişken**"
   ]
  },
  {
   "cell_type": "markdown",
   "id": "0172ea0b-216d-4035-b1a8-cbf218ba6a91",
   "metadata": {},
   "source": [
    "**Öğrenme Türleri**\n",
    "\n",
    "-Gözetimli Öğrenme                                                                                                                           \n",
    "-Göztimsiz Öğrenme                                                                                                                         \n",
    "-Yarı Gözetimli Öğrenme"
   ]
  },
  {
   "cell_type": "markdown",
   "id": "794eb5e3-931f-49c6-9602-127679aaa81c",
   "metadata": {},
   "source": [
    "**Problem Türü**\n",
    "\n",
    "Regresyon vs Sınıflandırma"
   ]
  },
  {
   "cell_type": "markdown",
   "id": "8c8a48be-e076-417c-ac30-637d10110375",
   "metadata": {},
   "source": [
    "##### Değişken Türleri"
   ]
  },
  {
   "cell_type": "markdown",
   "id": "b2de46d0-1b89-42be-b3a3-d59a0ac8d427",
   "metadata": {},
   "source": [
    "Kategorik Değişkenler\n",
    "\n",
    "Sayısal Değişkenler"
   ]
  },
  {
   "cell_type": "markdown",
   "id": "beb81efd-10c4-4a44-9e93-c9a3b01d779c",
   "metadata": {},
   "source": [
    "##### Ölçek Türleri"
   ]
  },
  {
   "cell_type": "markdown",
   "id": "a9068fb5-63d7-494b-952a-cb0e079a352b",
   "metadata": {},
   "source": [
    "Sayısal Değişkenler İçin: Aralık ve Oran\n",
    "    \n",
    "Kategorik Değişkenler İçin: Nominal ve Ordinal"
   ]
  },
  {
   "cell_type": "markdown",
   "id": "5be31ef4-61d0-45bf-8c08-5fbac1debc1d",
   "metadata": {},
   "source": [
    "##### Test-Train Kavramı"
   ]
  },
  {
   "cell_type": "markdown",
   "id": "4ac5acb9-6a23-44c9-90ee-79f63b1f9185",
   "metadata": {},
   "source": [
    "Orjinal veri setini böldüğümüz, eğitim seti ile eğitip test ettiğimiz bir süreçtir. "
   ]
  },
  {
   "cell_type": "markdown",
   "id": "0933a56b-1acf-4c98-80a3-4949e1305c4b",
   "metadata": {},
   "source": [
    "##### Değişken Mühendisliği (Feature Engineering)"
   ]
  },
  {
   "cell_type": "markdown",
   "id": "014279b1-99e2-4ed0-aacf-6d6f13a26ca1",
   "metadata": {},
   "source": [
    "Kişinin kendisinin veya otomatikleştirdiği sistemin veri seti içerisinden ya da veritabanları içerisinden değişkenleri oluşturması aşaması işlemidir."
   ]
  },
  {
   "cell_type": "markdown",
   "id": "9e210d30-5046-4e84-948e-79033075e570",
   "metadata": {},
   "source": [
    "##### Değişken Seçimi (Variable Selection)"
   ]
  },
  {
   "cell_type": "markdown",
   "id": "6137019a-3dcf-40fa-92ec-05b53d1d11a2",
   "metadata": {},
   "source": [
    "Renklerini kaybetmiş olan değişkenler C bağımlı değişkenlerin tahmin etmesi söz konusu olduğu zamanda başarılı olmayan, ayırt edici olmayan ve bir şekilde kullanıcı tarafından veya otomatik olarak \n",
    "çalışmanın dışarısında bırakılmış olan değişkenlerdir."
   ]
  },
  {
   "cell_type": "markdown",
   "id": "27ec2ecb-5611-4a92-9f25-d70fdff3d52d",
   "metadata": {},
   "source": [
    "##### Model Seçimi (İki Durum Söz Konusu)"
   ]
  },
  {
   "cell_type": "markdown",
   "id": "a5574a1a-7385-45bd-9c76-c2c4a46b822e",
   "metadata": {},
   "source": [
    "**Birincisi**: Oluşabilecek değişken kombinasyonları ile oluşturulan modeller arasından en iyi modelin seçilmesi                            \n",
    "**İkincisi**: Kuralan birbirinden farklı modeller arasından model seçimi"
   ]
  },
  {
   "cell_type": "markdown",
   "id": "b18328e6-39cf-4bdf-b6dc-c20cae7fa575",
   "metadata": {},
   "source": [
    "##### Model Neye Göre Seçilir?"
   ]
  },
  {
   "cell_type": "markdown",
   "id": "b08cb133-adbd-4596-884e-2381b3c80181",
   "metadata": {},
   "source": [
    "Regresyon için açıklanabilirlik oranu ve RMSE benzeri bir değer.                                                                            \n",
    "Sınıflandırma için doğru sınıflandırma oranı benzeri bir değer."
   ]
  },
  {
   "cell_type": "code",
   "execution_count": null,
   "id": "1c472b68-aa7d-4cac-bae5-d3028ba7913f",
   "metadata": {},
   "outputs": [],
   "source": []
  }
 ],
 "metadata": {
  "kernelspec": {
   "display_name": "Python 3",
   "language": "python",
   "name": "python3"
  },
  "language_info": {
   "codemirror_mode": {
    "name": "ipython",
    "version": 3
   },
   "file_extension": ".py",
   "mimetype": "text/x-python",
   "name": "python",
   "nbconvert_exporter": "python",
   "pygments_lexer": "ipython3",
   "version": "3.8.8"
  }
 },
 "nbformat": 4,
 "nbformat_minor": 5
}
