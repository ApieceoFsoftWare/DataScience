{
 "cells": [
  {
   "cell_type": "markdown",
   "id": "d69ed508-a5ff-498f-970b-9d2d7ef12735",
   "metadata": {},
   "source": [
    "# Gradient Boosting Machines"
   ]
  },
  {
   "cell_type": "code",
   "execution_count": 1,
   "id": "c67c036f-4228-4688-b5bf-2faeffc7680d",
   "metadata": {},
   "outputs": [],
   "source": [
    "import numpy as np\n",
    "import pandas as pd \n",
    "import statsmodels.api as sm\n",
    "import statsmodels.formula.api as smf\n",
    "import seaborn as sns\n",
    "from sklearn.preprocessing import scale \n",
    "from sklearn.model_selection import train_test_split, GridSearchCV, cross_val_score\n",
    "from sklearn.metrics import confusion_matrix, accuracy_score, classification_report\n",
    "from sklearn.metrics import roc_auc_score,roc_curve\n",
    "import statsmodels.formula.api as smf\n",
    "import matplotlib.pyplot as plt\n",
    "from sklearn.neighbors import KNeighborsClassifier\n",
    "from sklearn.discriminant_analysis import LinearDiscriminantAnalysis\n",
    "from sklearn.linear_model import LogisticRegression\n",
    "from sklearn.svm import SVC\n",
    "from sklearn.naive_bayes import GaussianNB\n",
    "from sklearn import tree\n",
    "from sklearn.ensemble import RandomForestClassifier\n",
    "from sklearn.ensemble import GradientBoostingClassifier\n",
    "from xgboost import XGBClassifier\n",
    "from lightgbm import LGBMClassifier\n",
    "from catboost import CatBoostClassifier\n",
    "\n",
    "from warnings import filterwarnings\n",
    "filterwarnings('ignore')"
   ]
  },
  {
   "cell_type": "code",
   "execution_count": 2,
   "id": "92b3689f-450d-4871-b242-c4f8b736f037",
   "metadata": {},
   "outputs": [],
   "source": [
    "diabetes = pd.read_csv(\"diabetes.csv\")\n",
    "df = diabetes.copy()\n",
    "y= df[\"Outcome\"]\n",
    "X= df.drop(['Outcome'], axis=1) \n",
    "#X= df[\"Pregnancies\"]\n",
    "X= pd.DataFrame(X)\n",
    "\n",
    "X_Train, X_Test, Y_Train, Y_Test = train_test_split(X, y, test_size=0.30, random_state=42)"
   ]
  },
  {
   "cell_type": "code",
   "execution_count": 3,
   "id": "16a4f09b-356c-4790-b7a8-a7c92896bb0e",
   "metadata": {},
   "outputs": [],
   "source": [
    "from sklearn.ensemble import GradientBoostingClassifier"
   ]
  },
  {
   "cell_type": "code",
   "execution_count": 4,
   "id": "274b70c5-2f15-4d12-9487-8ff1c2f68271",
   "metadata": {},
   "outputs": [],
   "source": [
    "gbm_model = GradientBoostingClassifier().fit(X_Train, Y_Train)"
   ]
  },
  {
   "cell_type": "markdown",
   "id": "d939cce8-de83-44e9-864b-cc565852a578",
   "metadata": {},
   "source": [
    "### Tahmin"
   ]
  },
  {
   "cell_type": "code",
   "execution_count": 5,
   "id": "cb61d508-7224-48e8-8b0e-b8a05c8ab5fd",
   "metadata": {},
   "outputs": [
    {
     "data": {
      "text/plain": [
       "0.7489177489177489"
      ]
     },
     "execution_count": 5,
     "metadata": {},
     "output_type": "execute_result"
    }
   ],
   "source": [
    "y_pred = gbm_model.predict(X_Test)\n",
    "accuracy_score(Y_Test, y_pred)"
   ]
  },
  {
   "cell_type": "markdown",
   "id": "dd66d034-7575-4258-a9c0-1e03d068282d",
   "metadata": {},
   "source": [
    "### Model Tuning"
   ]
  },
  {
   "cell_type": "code",
   "execution_count": 6,
   "id": "84b21ff5-ac95-4846-8f0d-6be63c9842ea",
   "metadata": {},
   "outputs": [],
   "source": [
    "gbm_params = {\"learing_rate\" : [0.001, 0.01, 0.1, 0.05],\n",
    "              \"n_estimators\" : [100,500,100], \n",
    "              \"max_depth\" : [3,5,10], \n",
    "              \"min_samples_split\" : [2,5,10]}"
   ]
  },
  {
   "cell_type": "code",
   "execution_count": null,
   "id": "fbefb4ec-806d-4b09-a4fb-e2295b8dd387",
   "metadata": {},
   "outputs": [],
   "source": [
    "gbm = GradientBoostingClassifier()\n",
    "gbm_cv = GridSearchCV(gbm, gbm_params, cv=10, n_jobs=-1, verbose=2)\n",
    "gbm_cv.fit(X_Train, Y_Train)"
   ]
  },
  {
   "cell_type": "code",
   "execution_count": null,
   "id": "b05db1ac-956c-4315-b30a-99c39b1b10d0",
   "metadata": {},
   "outputs": [],
   "source": [
    "print(\"En iyi parametreler:\" ,str(gbm_cv.best_params_))"
   ]
  },
  {
   "cell_type": "code",
   "execution_count": 7,
   "id": "790c7f29-a769-4a00-95ee-7910e24e6854",
   "metadata": {},
   "outputs": [],
   "source": [
    "gbm = GradientBoostingClassifier(learning_rate=0.01,\n",
    "                                 max_depth=3,\n",
    "                                 min_samples_split=5,\n",
    "                                 n_estimators=500)"
   ]
  },
  {
   "cell_type": "code",
   "execution_count": 8,
   "id": "148b9d8b-a25a-4053-94a7-3ea732212907",
   "metadata": {},
   "outputs": [],
   "source": [
    "gbm_tuned = gbm.fit(X_Train, Y_Train)"
   ]
  },
  {
   "cell_type": "code",
   "execution_count": 9,
   "id": "316297db-8e90-4613-9cc4-86b84c8389a6",
   "metadata": {},
   "outputs": [
    {
     "data": {
      "text/plain": [
       "0.7489177489177489"
      ]
     },
     "execution_count": 9,
     "metadata": {},
     "output_type": "execute_result"
    }
   ],
   "source": [
    "y_pred = gbm_tuned.predict(X_Test)\n",
    "accuracy_score(Y_Test, y_pred)"
   ]
  },
  {
   "cell_type": "code",
   "execution_count": null,
   "id": "4c12e413-3342-4e75-a301-a591e285a28e",
   "metadata": {},
   "outputs": [],
   "source": []
  }
 ],
 "metadata": {
  "kernelspec": {
   "display_name": "Python 3",
   "language": "python",
   "name": "python3"
  },
  "language_info": {
   "codemirror_mode": {
    "name": "ipython",
    "version": 3
   },
   "file_extension": ".py",
   "mimetype": "text/x-python",
   "name": "python",
   "nbconvert_exporter": "python",
   "pygments_lexer": "ipython3",
   "version": "3.8.8"
  }
 },
 "nbformat": 4,
 "nbformat_minor": 5
}
